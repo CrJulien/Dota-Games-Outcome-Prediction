{
 "cells": [
  {
   "cell_type": "markdown",
   "metadata": {},
   "source": [
    "# Dota 2 API Loader - Building our Dataset"
   ]
  },
  {
   "cell_type": "markdown",
   "metadata": {},
   "source": [
    "Our Dataset will be extracted from the website \"www.opendota.com\". To connect to it we use the Dota 2 API Loader (A package in python). For more documentation of the libraries and the inputs and outputs of it, you can see the following link: https://dota2api.readthedocs.io/en/latest/"
   ]
  },
  {
   "cell_type": "markdown",
   "metadata": {},
   "source": [
    "We upload the initial list of 437 professional players that we build based on the best 100 professional teams all around the world."
   ]
  },
  {
   "cell_type": "code",
   "execution_count": null,
   "metadata": {},
   "outputs": [],
   "source": [
    "import numpy as np\n",
    "import pandas as pd\n",
    "import seaborn as sns\n",
    "import matplotlib.pyplot as plt\n",
    "\n",
    "ds_players=pd.read_csv(\"dataset_players.csv\", sep=\",\")\n",
    "print(ds_players.shape)"
   ]
  },
  {
   "cell_type": "markdown",
   "metadata": {},
   "source": [
    "We have 497 players but we keep 438 unique players."
   ]
  },
  {
   "cell_type": "code",
   "execution_count": null,
   "metadata": {},
   "outputs": [],
   "source": [
    "ds_unique_players = ds_players.player_number.unique()\n",
    "#ds_players.isnull().sum()\n",
    "print(ds_unique_players.shape)"
   ]
  },
  {
   "cell_type": "markdown",
   "metadata": {},
   "source": [
    "We took as initial base a function from a Github project, but we changed many parts because we wanted to download the 100 games for each of the professional players in our list and not just random games. The dispersion could be high if we just take randome games because the there are 800 unique players per day and also 11 millions unique players per month."
   ]
  },
  {
   "cell_type": "code",
   "execution_count": null,
   "metadata": {},
   "outputs": [],
   "source": [
    "#By Account_ID\n",
    "import dota2api\n",
    "from dota2api.src.exceptions import APIError, APITimeoutError\n",
    "import csv\n",
    "from multiprocessing import Pool\n",
    "import time\n",
    "import sys\n",
    "\n",
    "def getMatchInfo( api, matchId ):\n",
    "    for retries in range(3):\n",
    "        try:\n",
    "            match = api.get_match_details(match_id=matchId)\n",
    "            #league = api.get_live_league_games(match['leagueid'])\n",
    "            break\n",
    "        except APIError as e:\n",
    "            print(e.msg)\n",
    "            raise APIError('Getting match ' + str(matchId) + ' Failed')\n",
    "        except Exception as e:\n",
    "            print(sys.exc_info())\n",
    "            if retries == 2:\n",
    "                raise APIError('Getting match ' + str(matchId) + ' Failed')\n",
    "            else:\n",
    "                time.sleep(10)\n",
    "                \n",
    "    #try:\n",
    "    if match['human_players'] != 10 or len(match['players']) != 10:\n",
    "        raise APIError('Bad number of players')\n",
    "    if 'radiant_win' not in match.keys():\n",
    "        raise APIError('Match not completed')\n",
    "    matchRow = [0]*96\n",
    "    matchRow[0] = matchId\n",
    "    if match['radiant_win']: # eg True\n",
    "        matchRow[1] = 1\n",
    "    else:\n",
    "        matchRow[1] = -1\n",
    "    matchRow[2] = match['cluster'] # eg 227 -> translates to Europe West?\n",
    "    matchRow[3] = match['game_mode_name'] # eg Captains Mode\n",
    "    matchRow[4] = match['duration'] # eg Ranked\n",
    "        \n",
    "    for retry in range(3):\n",
    "        try:\n",
    "            for i in range(10):\n",
    "                matchRow[5 + i] = str(match['players'][i]['hero_id']) # eg 5\n",
    "            for i in range(10):\n",
    "                matchRow[15 + i] = str(match['players'][i]['account_id'])\n",
    "            for i in range(10):\n",
    "                matchRow[25 + i] = str(match['players'][i]['player_slot'])\n",
    "            for i in range(10):\n",
    "                matchRow[35 + i] = str(match['players'][i]['kills'])\n",
    "            for i in range(10):\n",
    "                matchRow[45 + i] = str(match['players'][i]['deaths'])\n",
    "            for i in range(10):\n",
    "                matchRow[55 + i] = str(match['players'][i]['assists'])\n",
    "            for i in range(10):\n",
    "                matchRow[65 + i] = str(match['players'][i]['gold_per_min'])\n",
    "            for i in range(10):\n",
    "                matchRow[75 + i] = str(match['players'][i]['last_hits'])\n",
    "            for i in range(10):\n",
    "                matchRow[85 + i] = str(match['players'][i]['xp_per_min'])\n",
    "            matchRow[95] = match['leagueid'] # League Professional\n",
    "           #matchRow[36] = league['league_tier']\n",
    "            break\n",
    "        except Exception as e:\n",
    "            print(sys.exc_info())\n",
    "            if retry == 2:\n",
    "                raise APIError('Getting match ' + str(matchId) + ' Failed, problem of Data.')\n",
    "            else:\n",
    "                time.sleep(10)\n",
    "    return matchRow\n",
    "    \n",
    "def serialLoop( api, match, stopNum, writer ):\n",
    "    i = 0;\n",
    "    while stopNum > 0:\n",
    "        try:\n",
    "            matchInfo = getMatchInfo(api, match[i]['match_id'])\n",
    "            writer.writerow(matchInfo)\n",
    "            stopNum -= 1\n",
    "            print(\"Got \" + str(match[i]['match_id']) + \", Need \" + str(stopNum) + \" more\")\n",
    "        except APIError as e:\n",
    "            print(e.msg)\n",
    "        finally:\n",
    "            i += 1\n",
    "\n",
    "def getMatchStar( args ):\n",
    "    try:\n",
    "        match = getMatchInfo( args[0], args[1] )\n",
    "        print(\"Match \" + str(args[1]) + \" successful\")\n",
    "        return match\n",
    "    except APIError as e:\n",
    "        print(e.msg)\n",
    "    return []\n",
    "        \n",
    "def parallelLoop( api, matchId, stopNum, writer ):\n",
    "    p = Pool(4)\n",
    "\n",
    "    matchList = ( [ (api, matchId - x ) for x in range(2*stopNum) ] )\n",
    "    for x in p.map(getMatchStar, matchList):\n",
    "        if len(x) != 0:\n",
    "            writer.writerow( x )\n",
    "    p.terminate()"
   ]
  },
  {
   "cell_type": "markdown",
   "metadata": {},
   "source": [
    "Based on the functions defined, we run the code to take out the 100 games for each of the players in our list. We also build a log to monitor the import of the games in our dataset."
   ]
  },
  {
   "cell_type": "code",
   "execution_count": null,
   "metadata": {},
   "outputs": [],
   "source": [
    "if __name__==\"__main__\":\n",
    "    api = dota2api.Initialise(\"API Key - deleted from the deliverable\")\n",
    "    length_players = len(ds_unique_players)\n",
    "    z = 0\n",
    "    while z < length_players:\n",
    "        try:\n",
    "            print(\"Round-->\",z)\n",
    "            account_id=ds_unique_players[z]\n",
    "            print(\"Information: Player -->\", account_id)\n",
    "            match = api.get_match_history(account_id)\n",
    "            #print(match['matches'][95]['match_id'])\n",
    "            stopNum = len(match['matches']) # Last 100 games of the Professional Player.\n",
    "            outFile = open('dotaMatch_Final.out', 'a')\n",
    "            writer = csv.writer(outFile)\n",
    "            #match_id = match['matches'][0]['match_id']\n",
    "            #serialLoop( api, match_id, stopNum, writer )\n",
    "            serialLoop( api, match['matches'], stopNum, writer )\n",
    "            outFile.close()\n",
    "        except APIError as e:\n",
    "            print(e.msg)\n",
    "        finally:\n",
    "            z += 1\n",
    "    #parallelLoop( api, matchId, stopNum, writer )"
   ]
  },
  {
   "cell_type": "markdown",
   "metadata": {},
   "source": [
    "We validate the quantity of the rows that we are having in the Dataset and that there are no spaces or bad characters in a line."
   ]
  },
  {
   "cell_type": "code",
   "execution_count": null,
   "metadata": {},
   "outputs": [],
   "source": [
    "with open('dotaMatch_Final.out', 'r') as fp:\n",
    "    data = fp.read()\n",
    "with open('dotaMatch_Final.out') as myfile:\n",
    "    count = sum(1 for line in myfile if line.rstrip('\\n'))\n",
    "\n",
    "with open('dotaMatch_Final.out') as myfile:\n",
    "    count_empty = sum(1 for line in myfile)\n",
    "print(count)\n",
    "print(count_empty)"
   ]
  },
  {
   "cell_type": "markdown",
   "metadata": {},
   "source": [
    "We also validate the information that we are downloading in each row (sample rows)."
   ]
  },
  {
   "cell_type": "code",
   "execution_count": null,
   "metadata": {},
   "outputs": [],
   "source": [
    "with open('dotaMatch_Final.out', 'r') as fp:\n",
    "    data_base = fp.read()"
   ]
  },
  {
   "cell_type": "code",
   "execution_count": null,
   "metadata": {},
   "outputs": [],
   "source": [
    "with open('dotaMatch_Final.out') as f:\n",
    "  last = None\n",
    "  for last in (line for line in f if line.rstrip('\\n')):\n",
    "    pass\n",
    "print(last)"
   ]
  }
 ],
 "metadata": {
  "kernelspec": {
   "display_name": "Python 3",
   "language": "python",
   "name": "python3"
  },
  "language_info": {
   "codemirror_mode": {
    "name": "ipython",
    "version": 3
   },
   "file_extension": ".py",
   "mimetype": "text/x-python",
   "name": "python",
   "nbconvert_exporter": "python",
   "pygments_lexer": "ipython3",
   "version": "3.7.1"
  }
 },
 "nbformat": 4,
 "nbformat_minor": 2
}
