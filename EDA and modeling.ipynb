{
 "cells": [
  {
   "cell_type": "markdown",
   "metadata": {},
   "source": [
    "# Dota 2 - Predicting the Outcome of a Game"
   ]
  },
  {
   "cell_type": "markdown",
   "metadata": {},
   "source": [
    "The following code is considering the following sections:\n",
    "- Data Preparation and Feature Selection\n",
    "    - Transpose of Dataset\n",
    "    - Creation of New Features\n",
    "    - Features Analysis\n",
    "    - Variance Reduction with Ordering of Features\n",
    "- Model Training Application\n",
    "    - Logistic Regression\n",
    "    - SVM with Gaussian Kernel\n",
    "    - SVM with Cross Validation\n",
    "    - SVM with Linear Kernel"
   ]
  },
  {
   "cell_type": "markdown",
   "metadata": {},
   "source": [
    "# Data Preparation and Features Selection"
   ]
  },
  {
   "cell_type": "code",
   "execution_count": 1,
   "metadata": {},
   "outputs": [
    {
     "name": "stderr",
     "output_type": "stream",
     "text": [
      "C:\\Users\\Julien\\Anaconda3\\lib\\site-packages\\sklearn\\cross_validation.py:41: DeprecationWarning: This module was deprecated in version 0.18 in favor of the model_selection module into which all the refactored classes and functions are moved. Also note that the interface of the new CV iterators are different from that of this module. This module will be removed in 0.20.\n",
      "  \"This module will be removed in 0.20.\", DeprecationWarning)\n"
     ]
    }
   ],
   "source": [
    "import pandas as pd\n",
    "from sklearn.linear_model import LogisticRegression\n",
    "import matplotlib.pyplot as plt\n",
    "from mpl_toolkits.mplot3d import Axes3D\n",
    "import numpy as np\n",
    "from sklearn import metrics\n",
    "from sklearn.metrics import roc_curve\n",
    "from sklearn.metrics import roc_auc_score\n",
    "from sklearn.feature_selection import RFE\n",
    "from sklearn import svm\n",
    "from sklearn.svm import SVC\n",
    "from sklearn import cross_validation\n",
    "from sklearn.model_selection import StratifiedKFold\n",
    "from sklearn.model_selection import cross_val_score\n",
    "from __future__ import print_function\n",
    "from sklearn.model_selection import GridSearchCV\n",
    "from sklearn.metrics import classification_report"
   ]
  },
  {
   "cell_type": "code",
   "execution_count": 2,
   "metadata": {},
   "outputs": [
    {
     "name": "stdout",
     "output_type": "stream",
     "text": [
      "(28993, 96)\n"
     ]
    },
    {
     "data": {
      "text/html": [
       "<div>\n",
       "<style scoped>\n",
       "    .dataframe tbody tr th:only-of-type {\n",
       "        vertical-align: middle;\n",
       "    }\n",
       "\n",
       "    .dataframe tbody tr th {\n",
       "        vertical-align: top;\n",
       "    }\n",
       "\n",
       "    .dataframe thead th {\n",
       "        text-align: right;\n",
       "    }\n",
       "</style>\n",
       "<table border=\"1\" class=\"dataframe\">\n",
       "  <thead>\n",
       "    <tr style=\"text-align: right;\">\n",
       "      <th></th>\n",
       "      <th>matchId</th>\n",
       "      <th>radiant_win</th>\n",
       "      <th>cluster</th>\n",
       "      <th>game_mode_name</th>\n",
       "      <th>duration</th>\n",
       "      <th>hero_id_1</th>\n",
       "      <th>hero_id_2</th>\n",
       "      <th>hero_id_3</th>\n",
       "      <th>hero_id_4</th>\n",
       "      <th>hero_id_5</th>\n",
       "      <th>...</th>\n",
       "      <th>xp_per_min_2</th>\n",
       "      <th>xp_per_min_3</th>\n",
       "      <th>xp_per_min_4</th>\n",
       "      <th>xp_per_min_5</th>\n",
       "      <th>xp_per_min_6</th>\n",
       "      <th>xp_per_min_7</th>\n",
       "      <th>xp_per_min_8</th>\n",
       "      <th>xp_per_min_9</th>\n",
       "      <th>xp_per_min_10</th>\n",
       "      <th>leagueid</th>\n",
       "    </tr>\n",
       "  </thead>\n",
       "  <tbody>\n",
       "    <tr>\n",
       "      <th>0</th>\n",
       "      <td>4244610789</td>\n",
       "      <td>-1</td>\n",
       "      <td>138</td>\n",
       "      <td>Ranked All Pick</td>\n",
       "      <td>3141</td>\n",
       "      <td>14</td>\n",
       "      <td>60</td>\n",
       "      <td>35</td>\n",
       "      <td>97</td>\n",
       "      <td>84</td>\n",
       "      <td>...</td>\n",
       "      <td>684</td>\n",
       "      <td>672</td>\n",
       "      <td>509</td>\n",
       "      <td>682</td>\n",
       "      <td>784</td>\n",
       "      <td>591</td>\n",
       "      <td>567</td>\n",
       "      <td>827</td>\n",
       "      <td>348</td>\n",
       "      <td>0</td>\n",
       "    </tr>\n",
       "    <tr>\n",
       "      <th>1</th>\n",
       "      <td>4244579889</td>\n",
       "      <td>-1</td>\n",
       "      <td>137</td>\n",
       "      <td>Ranked All Pick</td>\n",
       "      <td>2211</td>\n",
       "      <td>35</td>\n",
       "      <td>20</td>\n",
       "      <td>14</td>\n",
       "      <td>22</td>\n",
       "      <td>81</td>\n",
       "      <td>...</td>\n",
       "      <td>426</td>\n",
       "      <td>457</td>\n",
       "      <td>381</td>\n",
       "      <td>781</td>\n",
       "      <td>1000</td>\n",
       "      <td>536</td>\n",
       "      <td>688</td>\n",
       "      <td>753</td>\n",
       "      <td>826</td>\n",
       "      <td>0</td>\n",
       "    </tr>\n",
       "    <tr>\n",
       "      <th>2</th>\n",
       "      <td>4235878221</td>\n",
       "      <td>1</td>\n",
       "      <td>135</td>\n",
       "      <td>Ranked All Pick</td>\n",
       "      <td>2408</td>\n",
       "      <td>25</td>\n",
       "      <td>31</td>\n",
       "      <td>11</td>\n",
       "      <td>86</td>\n",
       "      <td>41</td>\n",
       "      <td>...</td>\n",
       "      <td>441</td>\n",
       "      <td>811</td>\n",
       "      <td>522</td>\n",
       "      <td>654</td>\n",
       "      <td>581</td>\n",
       "      <td>374</td>\n",
       "      <td>599</td>\n",
       "      <td>523</td>\n",
       "      <td>541</td>\n",
       "      <td>0</td>\n",
       "    </tr>\n",
       "    <tr>\n",
       "      <th>3</th>\n",
       "      <td>4235835817</td>\n",
       "      <td>1</td>\n",
       "      <td>137</td>\n",
       "      <td>Ranked All Pick</td>\n",
       "      <td>2786</td>\n",
       "      <td>11</td>\n",
       "      <td>63</td>\n",
       "      <td>78</td>\n",
       "      <td>14</td>\n",
       "      <td>103</td>\n",
       "      <td>...</td>\n",
       "      <td>818</td>\n",
       "      <td>736</td>\n",
       "      <td>661</td>\n",
       "      <td>608</td>\n",
       "      <td>462</td>\n",
       "      <td>849</td>\n",
       "      <td>720</td>\n",
       "      <td>721</td>\n",
       "      <td>735</td>\n",
       "      <td>0</td>\n",
       "    </tr>\n",
       "    <tr>\n",
       "      <th>4</th>\n",
       "      <td>4235786355</td>\n",
       "      <td>1</td>\n",
       "      <td>131</td>\n",
       "      <td>Ranked All Pick</td>\n",
       "      <td>3235</td>\n",
       "      <td>11</td>\n",
       "      <td>104</td>\n",
       "      <td>50</td>\n",
       "      <td>19</td>\n",
       "      <td>89</td>\n",
       "      <td>...</td>\n",
       "      <td>606</td>\n",
       "      <td>446</td>\n",
       "      <td>670</td>\n",
       "      <td>789</td>\n",
       "      <td>547</td>\n",
       "      <td>571</td>\n",
       "      <td>696</td>\n",
       "      <td>633</td>\n",
       "      <td>786</td>\n",
       "      <td>0</td>\n",
       "    </tr>\n",
       "  </tbody>\n",
       "</table>\n",
       "<p>5 rows × 96 columns</p>\n",
       "</div>"
      ],
      "text/plain": [
       "      matchId  radiant_win  cluster   game_mode_name  duration  hero_id_1  \\\n",
       "0  4244610789           -1      138  Ranked All Pick      3141         14   \n",
       "1  4244579889           -1      137  Ranked All Pick      2211         35   \n",
       "2  4235878221            1      135  Ranked All Pick      2408         25   \n",
       "3  4235835817            1      137  Ranked All Pick      2786         11   \n",
       "4  4235786355            1      131  Ranked All Pick      3235         11   \n",
       "\n",
       "   hero_id_2  hero_id_3  hero_id_4  hero_id_5    ...     xp_per_min_2  \\\n",
       "0         60         35         97         84    ...              684   \n",
       "1         20         14         22         81    ...              426   \n",
       "2         31         11         86         41    ...              441   \n",
       "3         63         78         14        103    ...              818   \n",
       "4        104         50         19         89    ...              606   \n",
       "\n",
       "   xp_per_min_3  xp_per_min_4  xp_per_min_5  xp_per_min_6  xp_per_min_7  \\\n",
       "0           672           509           682           784           591   \n",
       "1           457           381           781          1000           536   \n",
       "2           811           522           654           581           374   \n",
       "3           736           661           608           462           849   \n",
       "4           446           670           789           547           571   \n",
       "\n",
       "   xp_per_min_8  xp_per_min_9  xp_per_min_10  leagueid  \n",
       "0           567           827            348         0  \n",
       "1           688           753            826         0  \n",
       "2           599           523            541         0  \n",
       "3           720           721            735         0  \n",
       "4           696           633            786         0  \n",
       "\n",
       "[5 rows x 96 columns]"
      ]
     },
     "execution_count": 2,
     "metadata": {},
     "output_type": "execute_result"
    }
   ],
   "source": [
    "# load the dataset\n",
    "data = pd.read_excel('C:\\\\Users\\\\Julien\\\\Documents\\\\MYCLOUD\\\\Etudes\\\\ESSEC-Centrale\\\\Courses\\\\Core courses\\\\Fondations of Machine Learning\\\\Project\\\\Dota\\\\dotaMatch_Final.xlsx', sep=',')\n",
    "print(data.shape)\n",
    "data.head()"
   ]
  },
  {
   "cell_type": "code",
   "execution_count": 3,
   "metadata": {
    "scrolled": true
   },
   "outputs": [
    {
     "data": {
      "text/plain": [
       "4224120626    7\n",
       "4232959056    7\n",
       "4248860482    7\n",
       "4236815351    7\n",
       "4256199452    7\n",
       "4251275642    6\n",
       "4239449653    6\n",
       "4252746058    6\n",
       "4248752935    6\n",
       "4221181402    6\n",
       "4255451613    6\n",
       "4239263350    6\n",
       "4229658442    6\n",
       "4254354868    6\n",
       "4246889553    6\n",
       "4220568403    5\n",
       "4236732270    5\n",
       "4240976031    5\n",
       "4244831879    5\n",
       "4252554718    5\n",
       "4242464848    5\n",
       "4242367535    5\n",
       "4248123979    5\n",
       "4243905812    5\n",
       "4230725338    5\n",
       "4245480319    5\n",
       "4251336881    5\n",
       "4243884222    5\n",
       "4253158590    5\n",
       "4228892567    5\n",
       "             ..\n",
       "4243035834    1\n",
       "4098236091    1\n",
       "4248676028    1\n",
       "4256083645    1\n",
       "4254611134    1\n",
       "4066880498    1\n",
       "4210049494    1\n",
       "4118895061    1\n",
       "4251606723    1\n",
       "4222772932    1\n",
       "4245219837    1\n",
       "3892875304    1\n",
       "4232101551    1\n",
       "4246237936    1\n",
       "4234499746    1\n",
       "4241686167    1\n",
       "4211512986    1\n",
       "4228591261    1\n",
       "4251485496    1\n",
       "4113974944    1\n",
       "3997176284    1\n",
       "4110311075    1\n",
       "4212698797    1\n",
       "4196361892    1\n",
       "4231655077    1\n",
       "4168840870    1\n",
       "4241854121    1\n",
       "4234188458    1\n",
       "4247693787    1\n",
       "4166533120    1\n",
       "Name: matchId, Length: 23043, dtype: int64"
      ]
     },
     "execution_count": 3,
     "metadata": {},
     "output_type": "execute_result"
    }
   ],
   "source": [
    "# check duplicates\n",
    "data['matchId'].value_counts()"
   ]
  },
  {
   "cell_type": "code",
   "execution_count": 4,
   "metadata": {
    "scrolled": true
   },
   "outputs": [
    {
     "data": {
      "text/html": [
       "<div>\n",
       "<style scoped>\n",
       "    .dataframe tbody tr th:only-of-type {\n",
       "        vertical-align: middle;\n",
       "    }\n",
       "\n",
       "    .dataframe tbody tr th {\n",
       "        vertical-align: top;\n",
       "    }\n",
       "\n",
       "    .dataframe thead th {\n",
       "        text-align: right;\n",
       "    }\n",
       "</style>\n",
       "<table border=\"1\" class=\"dataframe\">\n",
       "  <thead>\n",
       "    <tr style=\"text-align: right;\">\n",
       "      <th></th>\n",
       "      <th>matchId</th>\n",
       "      <th>radiant_win</th>\n",
       "      <th>cluster</th>\n",
       "      <th>game_mode_name</th>\n",
       "      <th>duration</th>\n",
       "      <th>hero_id_1</th>\n",
       "      <th>hero_id_2</th>\n",
       "      <th>hero_id_3</th>\n",
       "      <th>hero_id_4</th>\n",
       "      <th>hero_id_5</th>\n",
       "      <th>...</th>\n",
       "      <th>xp_per_min_2</th>\n",
       "      <th>xp_per_min_3</th>\n",
       "      <th>xp_per_min_4</th>\n",
       "      <th>xp_per_min_5</th>\n",
       "      <th>xp_per_min_6</th>\n",
       "      <th>xp_per_min_7</th>\n",
       "      <th>xp_per_min_8</th>\n",
       "      <th>xp_per_min_9</th>\n",
       "      <th>xp_per_min_10</th>\n",
       "      <th>leagueid</th>\n",
       "    </tr>\n",
       "  </thead>\n",
       "  <tbody>\n",
       "    <tr>\n",
       "      <th>0</th>\n",
       "      <td>4244610789</td>\n",
       "      <td>-1</td>\n",
       "      <td>138</td>\n",
       "      <td>Ranked All Pick</td>\n",
       "      <td>3141</td>\n",
       "      <td>14</td>\n",
       "      <td>60</td>\n",
       "      <td>35</td>\n",
       "      <td>97</td>\n",
       "      <td>84</td>\n",
       "      <td>...</td>\n",
       "      <td>684</td>\n",
       "      <td>672</td>\n",
       "      <td>509</td>\n",
       "      <td>682</td>\n",
       "      <td>784</td>\n",
       "      <td>591</td>\n",
       "      <td>567</td>\n",
       "      <td>827</td>\n",
       "      <td>348</td>\n",
       "      <td>0</td>\n",
       "    </tr>\n",
       "    <tr>\n",
       "      <th>1</th>\n",
       "      <td>4244579889</td>\n",
       "      <td>-1</td>\n",
       "      <td>137</td>\n",
       "      <td>Ranked All Pick</td>\n",
       "      <td>2211</td>\n",
       "      <td>35</td>\n",
       "      <td>20</td>\n",
       "      <td>14</td>\n",
       "      <td>22</td>\n",
       "      <td>81</td>\n",
       "      <td>...</td>\n",
       "      <td>426</td>\n",
       "      <td>457</td>\n",
       "      <td>381</td>\n",
       "      <td>781</td>\n",
       "      <td>1000</td>\n",
       "      <td>536</td>\n",
       "      <td>688</td>\n",
       "      <td>753</td>\n",
       "      <td>826</td>\n",
       "      <td>0</td>\n",
       "    </tr>\n",
       "    <tr>\n",
       "      <th>2</th>\n",
       "      <td>4235878221</td>\n",
       "      <td>1</td>\n",
       "      <td>135</td>\n",
       "      <td>Ranked All Pick</td>\n",
       "      <td>2408</td>\n",
       "      <td>25</td>\n",
       "      <td>31</td>\n",
       "      <td>11</td>\n",
       "      <td>86</td>\n",
       "      <td>41</td>\n",
       "      <td>...</td>\n",
       "      <td>441</td>\n",
       "      <td>811</td>\n",
       "      <td>522</td>\n",
       "      <td>654</td>\n",
       "      <td>581</td>\n",
       "      <td>374</td>\n",
       "      <td>599</td>\n",
       "      <td>523</td>\n",
       "      <td>541</td>\n",
       "      <td>0</td>\n",
       "    </tr>\n",
       "    <tr>\n",
       "      <th>3</th>\n",
       "      <td>4235835817</td>\n",
       "      <td>1</td>\n",
       "      <td>137</td>\n",
       "      <td>Ranked All Pick</td>\n",
       "      <td>2786</td>\n",
       "      <td>11</td>\n",
       "      <td>63</td>\n",
       "      <td>78</td>\n",
       "      <td>14</td>\n",
       "      <td>103</td>\n",
       "      <td>...</td>\n",
       "      <td>818</td>\n",
       "      <td>736</td>\n",
       "      <td>661</td>\n",
       "      <td>608</td>\n",
       "      <td>462</td>\n",
       "      <td>849</td>\n",
       "      <td>720</td>\n",
       "      <td>721</td>\n",
       "      <td>735</td>\n",
       "      <td>0</td>\n",
       "    </tr>\n",
       "    <tr>\n",
       "      <th>4</th>\n",
       "      <td>4235786355</td>\n",
       "      <td>1</td>\n",
       "      <td>131</td>\n",
       "      <td>Ranked All Pick</td>\n",
       "      <td>3235</td>\n",
       "      <td>11</td>\n",
       "      <td>104</td>\n",
       "      <td>50</td>\n",
       "      <td>19</td>\n",
       "      <td>89</td>\n",
       "      <td>...</td>\n",
       "      <td>606</td>\n",
       "      <td>446</td>\n",
       "      <td>670</td>\n",
       "      <td>789</td>\n",
       "      <td>547</td>\n",
       "      <td>571</td>\n",
       "      <td>696</td>\n",
       "      <td>633</td>\n",
       "      <td>786</td>\n",
       "      <td>0</td>\n",
       "    </tr>\n",
       "  </tbody>\n",
       "</table>\n",
       "<p>5 rows × 96 columns</p>\n",
       "</div>"
      ],
      "text/plain": [
       "      matchId  radiant_win  cluster   game_mode_name  duration  hero_id_1  \\\n",
       "0  4244610789           -1      138  Ranked All Pick      3141         14   \n",
       "1  4244579889           -1      137  Ranked All Pick      2211         35   \n",
       "2  4235878221            1      135  Ranked All Pick      2408         25   \n",
       "3  4235835817            1      137  Ranked All Pick      2786         11   \n",
       "4  4235786355            1      131  Ranked All Pick      3235         11   \n",
       "\n",
       "   hero_id_2  hero_id_3  hero_id_4  hero_id_5    ...     xp_per_min_2  \\\n",
       "0         60         35         97         84    ...              684   \n",
       "1         20         14         22         81    ...              426   \n",
       "2         31         11         86         41    ...              441   \n",
       "3         63         78         14        103    ...              818   \n",
       "4        104         50         19         89    ...              606   \n",
       "\n",
       "   xp_per_min_3  xp_per_min_4  xp_per_min_5  xp_per_min_6  xp_per_min_7  \\\n",
       "0           672           509           682           784           591   \n",
       "1           457           381           781          1000           536   \n",
       "2           811           522           654           581           374   \n",
       "3           736           661           608           462           849   \n",
       "4           446           670           789           547           571   \n",
       "\n",
       "   xp_per_min_8  xp_per_min_9  xp_per_min_10  leagueid  \n",
       "0           567           827            348         0  \n",
       "1           688           753            826         0  \n",
       "2           599           523            541         0  \n",
       "3           720           721            735         0  \n",
       "4           696           633            786         0  \n",
       "\n",
       "[5 rows x 96 columns]"
      ]
     },
     "execution_count": 4,
     "metadata": {},
     "output_type": "execute_result"
    }
   ],
   "source": [
    "# Select only games that last more than 10 min\n",
    "data = data.drop_duplicates(keep = 'first')\n",
    "data = data[data.duration >= 600]\n",
    "data.head()"
   ]
  },
  {
   "cell_type": "code",
   "execution_count": 5,
   "metadata": {
    "scrolled": true
   },
   "outputs": [
    {
     "data": {
      "text/plain": [
       "matchId            0\n",
       "radiant_win        0\n",
       "cluster            0\n",
       "game_mode_name     0\n",
       "duration           0\n",
       "hero_id_1          0\n",
       "hero_id_2          0\n",
       "hero_id_3          0\n",
       "hero_id_4          0\n",
       "hero_id_5          0\n",
       "hero_id_6          0\n",
       "hero_id_7          0\n",
       "hero_id_8          0\n",
       "hero_id_9          0\n",
       "hero_id_10         0\n",
       "account_id_1       0\n",
       "account_id_2       0\n",
       "account_id_3       0\n",
       "account_id_4       0\n",
       "account_id_5       0\n",
       "account_id_6       0\n",
       "account_id_7       0\n",
       "account_id_8       0\n",
       "account_id_9       0\n",
       "account_id_10      0\n",
       "player_slot_1      0\n",
       "player_slot_2      0\n",
       "player_slot_3      0\n",
       "player_slot_4      0\n",
       "player_slot_5      0\n",
       "                  ..\n",
       "gold_per_min_2     0\n",
       "gold_per_min_3     0\n",
       "gold_per_min_4     0\n",
       "gold_per_min_5     0\n",
       "gold_per_min_6     0\n",
       "gold_per_min_7     0\n",
       "gold_per_min_8     0\n",
       "gold_per_min_9     0\n",
       "gold_per_min_10    0\n",
       "last_hits_1        0\n",
       "last_hits_2        0\n",
       "last_hits_3        0\n",
       "last_hits_4        0\n",
       "last_hits_5        0\n",
       "last_hits_6        0\n",
       "last_hits_7        0\n",
       "last_hits_8        0\n",
       "last_hits_9        0\n",
       "last_hits_10       0\n",
       "xp_per_min_1       0\n",
       "xp_per_min_2       0\n",
       "xp_per_min_3       0\n",
       "xp_per_min_4       0\n",
       "xp_per_min_5       0\n",
       "xp_per_min_6       0\n",
       "xp_per_min_7       0\n",
       "xp_per_min_8       0\n",
       "xp_per_min_9       0\n",
       "xp_per_min_10      0\n",
       "leagueid           0\n",
       "Length: 96, dtype: int64"
      ]
     },
     "execution_count": 5,
     "metadata": {},
     "output_type": "execute_result"
    }
   ],
   "source": [
    "# Check missing values\n",
    "data.isnull().sum()"
   ]
  },
  {
   "cell_type": "code",
   "execution_count": 6,
   "metadata": {
    "scrolled": true
   },
   "outputs": [],
   "source": [
    "# Split the data set\n",
    "data.sort_values(by=['matchId'])\n",
    "train = data[:int(data.shape[0]*0.90)]\n",
    "test = data[int(data.shape[0]*0.90):]"
   ]
  },
  {
   "cell_type": "code",
   "execution_count": 7,
   "metadata": {
    "scrolled": false
   },
   "outputs": [
    {
     "name": "stdout",
     "output_type": "stream",
     "text": [
      "(220980, 12)\n"
     ]
    },
    {
     "data": {
      "text/html": [
       "<div>\n",
       "<style scoped>\n",
       "    .dataframe tbody tr th:only-of-type {\n",
       "        vertical-align: middle;\n",
       "    }\n",
       "\n",
       "    .dataframe tbody tr th {\n",
       "        vertical-align: top;\n",
       "    }\n",
       "\n",
       "    .dataframe thead th {\n",
       "        text-align: right;\n",
       "    }\n",
       "</style>\n",
       "<table border=\"1\" class=\"dataframe\">\n",
       "  <thead>\n",
       "    <tr style=\"text-align: right;\">\n",
       "      <th></th>\n",
       "      <th>matchId</th>\n",
       "      <th>radiant_win</th>\n",
       "      <th>duration</th>\n",
       "      <th>hero_id</th>\n",
       "      <th>account_id</th>\n",
       "      <th>player_slot</th>\n",
       "      <th>kills</th>\n",
       "      <th>deaths</th>\n",
       "      <th>assists</th>\n",
       "      <th>gold_per_min</th>\n",
       "      <th>last_hits</th>\n",
       "      <th>xp_per_min</th>\n",
       "      <th>team</th>\n",
       "    </tr>\n",
       "  </thead>\n",
       "  <tbody>\n",
       "    <tr>\n",
       "      <th>0</th>\n",
       "      <td>4244579889</td>\n",
       "      <td>-1</td>\n",
       "      <td>2211</td>\n",
       "      <td>35</td>\n",
       "      <td>91751637</td>\n",
       "      <td>0</td>\n",
       "      <td>3</td>\n",
       "      <td>10</td>\n",
       "      <td>11</td>\n",
       "      <td>393</td>\n",
       "      <td>155</td>\n",
       "      <td>417</td>\n",
       "      <td>1</td>\n",
       "    </tr>\n",
       "    <tr>\n",
       "      <th>1</th>\n",
       "      <td>4235878221</td>\n",
       "      <td>1</td>\n",
       "      <td>2408</td>\n",
       "      <td>25</td>\n",
       "      <td>171758899</td>\n",
       "      <td>0</td>\n",
       "      <td>16</td>\n",
       "      <td>9</td>\n",
       "      <td>13</td>\n",
       "      <td>575</td>\n",
       "      <td>198</td>\n",
       "      <td>649</td>\n",
       "      <td>1</td>\n",
       "    </tr>\n",
       "    <tr>\n",
       "      <th>2</th>\n",
       "      <td>4235835817</td>\n",
       "      <td>1</td>\n",
       "      <td>2786</td>\n",
       "      <td>11</td>\n",
       "      <td>89117038</td>\n",
       "      <td>0</td>\n",
       "      <td>14</td>\n",
       "      <td>11</td>\n",
       "      <td>14</td>\n",
       "      <td>601</td>\n",
       "      <td>310</td>\n",
       "      <td>716</td>\n",
       "      <td>1</td>\n",
       "    </tr>\n",
       "    <tr>\n",
       "      <th>3</th>\n",
       "      <td>4235786355</td>\n",
       "      <td>1</td>\n",
       "      <td>3235</td>\n",
       "      <td>11</td>\n",
       "      <td>4294967295</td>\n",
       "      <td>0</td>\n",
       "      <td>14</td>\n",
       "      <td>9</td>\n",
       "      <td>12</td>\n",
       "      <td>681</td>\n",
       "      <td>471</td>\n",
       "      <td>727</td>\n",
       "      <td>1</td>\n",
       "    </tr>\n",
       "    <tr>\n",
       "      <th>4</th>\n",
       "      <td>4235738179</td>\n",
       "      <td>1</td>\n",
       "      <td>2698</td>\n",
       "      <td>62</td>\n",
       "      <td>85536171</td>\n",
       "      <td>0</td>\n",
       "      <td>5</td>\n",
       "      <td>8</td>\n",
       "      <td>21</td>\n",
       "      <td>411</td>\n",
       "      <td>43</td>\n",
       "      <td>500</td>\n",
       "      <td>1</td>\n",
       "    </tr>\n",
       "  </tbody>\n",
       "</table>\n",
       "</div>"
      ],
      "text/plain": [
       "      matchId radiant_win duration hero_id  account_id player_slot kills  \\\n",
       "0  4244579889          -1     2211      35    91751637           0     3   \n",
       "1  4235878221           1     2408      25   171758899           0    16   \n",
       "2  4235835817           1     2786      11    89117038           0    14   \n",
       "3  4235786355           1     3235      11  4294967295           0    14   \n",
       "4  4235738179           1     2698      62    85536171           0     5   \n",
       "\n",
       "  deaths assists gold_per_min last_hits xp_per_min team  \n",
       "0     10      11          393       155        417    1  \n",
       "1      9      13          575       198        649    1  \n",
       "2     11      14          601       310        716    1  \n",
       "3      9      12          681       471        727    1  \n",
       "4      8      21          411        43        500    1  "
      ]
     },
     "execution_count": 7,
     "metadata": {},
     "output_type": "execute_result"
    }
   ],
   "source": [
    "# Transform train data to have information about players in the same columns \n",
    "train2 = pd.DataFrame(columns=['matchId', 'radiant_win', 'duration', 'hero_id', 'account_id', 'player_slot', \n",
    "                              'kills', 'deaths', 'assists', 'gold_per_min', 'last_hits','xp_per_min'])\n",
    "for i in range(1,11):\n",
    "    d = train.iloc[1:,[0, 1, 4, i+4, i+14, i+24, i+34, i+44, i+54, i+64, i+74, i+84]]\n",
    "    d.columns = ['matchId', 'radiant_win', 'duration', 'hero_id', 'account_id', 'player_slot', \n",
    "                              'kills', 'deaths', 'assists', 'gold_per_min', 'last_hits','xp_per_min']\n",
    "    train2 = pd.concat([train2, d], axis=0, keys=None)\n",
    "print(train2.shape)\n",
    "train2['team'] = '1' #Radiant\n",
    "train2 = train2.reset_index()\n",
    "for i in range(int(train2.shape[0]/2-1),train2.shape[0]):\n",
    "    train2.at[i, 'team'] = '0' # Dire\n",
    "train2 = train2.drop('index', axis = 1)\n",
    "train2 = train2.drop_duplicates(keep = 'first')\n",
    "train2.head()"
   ]
  },
  {
   "cell_type": "markdown",
   "metadata": {},
   "source": [
    "# Transpose our Dataset"
   ]
  },
  {
   "cell_type": "code",
   "execution_count": 8,
   "metadata": {
    "scrolled": true
   },
   "outputs": [
    {
     "name": "stdout",
     "output_type": "stream",
     "text": [
      "(24550, 12)\n"
     ]
    },
    {
     "data": {
      "text/html": [
       "<div>\n",
       "<style scoped>\n",
       "    .dataframe tbody tr th:only-of-type {\n",
       "        vertical-align: middle;\n",
       "    }\n",
       "\n",
       "    .dataframe tbody tr th {\n",
       "        vertical-align: top;\n",
       "    }\n",
       "\n",
       "    .dataframe thead th {\n",
       "        text-align: right;\n",
       "    }\n",
       "</style>\n",
       "<table border=\"1\" class=\"dataframe\">\n",
       "  <thead>\n",
       "    <tr style=\"text-align: right;\">\n",
       "      <th></th>\n",
       "      <th>matchId</th>\n",
       "      <th>radiant_win</th>\n",
       "      <th>duration</th>\n",
       "      <th>hero_id</th>\n",
       "      <th>account_id</th>\n",
       "      <th>player_slot</th>\n",
       "      <th>kills</th>\n",
       "      <th>deaths</th>\n",
       "      <th>assists</th>\n",
       "      <th>gold_per_min</th>\n",
       "      <th>last_hits</th>\n",
       "      <th>xp_per_min</th>\n",
       "      <th>team</th>\n",
       "    </tr>\n",
       "  </thead>\n",
       "  <tbody>\n",
       "    <tr>\n",
       "      <th>0</th>\n",
       "      <td>4175786086</td>\n",
       "      <td>1</td>\n",
       "      <td>2408</td>\n",
       "      <td>70</td>\n",
       "      <td>4294967295</td>\n",
       "      <td>0</td>\n",
       "      <td>17</td>\n",
       "      <td>5</td>\n",
       "      <td>17</td>\n",
       "      <td>530</td>\n",
       "      <td>165</td>\n",
       "      <td>707</td>\n",
       "      <td>1</td>\n",
       "    </tr>\n",
       "    <tr>\n",
       "      <th>1</th>\n",
       "      <td>4175721477</td>\n",
       "      <td>-1</td>\n",
       "      <td>2706</td>\n",
       "      <td>10</td>\n",
       "      <td>4294967295</td>\n",
       "      <td>0</td>\n",
       "      <td>17</td>\n",
       "      <td>8</td>\n",
       "      <td>6</td>\n",
       "      <td>632</td>\n",
       "      <td>275</td>\n",
       "      <td>744</td>\n",
       "      <td>1</td>\n",
       "    </tr>\n",
       "    <tr>\n",
       "      <th>2</th>\n",
       "      <td>4175668662</td>\n",
       "      <td>1</td>\n",
       "      <td>2278</td>\n",
       "      <td>21</td>\n",
       "      <td>4294967295</td>\n",
       "      <td>0</td>\n",
       "      <td>13</td>\n",
       "      <td>4</td>\n",
       "      <td>10</td>\n",
       "      <td>467</td>\n",
       "      <td>139</td>\n",
       "      <td>561</td>\n",
       "      <td>1</td>\n",
       "    </tr>\n",
       "    <tr>\n",
       "      <th>3</th>\n",
       "      <td>4174486906</td>\n",
       "      <td>-1</td>\n",
       "      <td>1887</td>\n",
       "      <td>36</td>\n",
       "      <td>857908232</td>\n",
       "      <td>0</td>\n",
       "      <td>6</td>\n",
       "      <td>7</td>\n",
       "      <td>2</td>\n",
       "      <td>392</td>\n",
       "      <td>124</td>\n",
       "      <td>410</td>\n",
       "      <td>1</td>\n",
       "    </tr>\n",
       "    <tr>\n",
       "      <th>4</th>\n",
       "      <td>4174438727</td>\n",
       "      <td>-1</td>\n",
       "      <td>1421</td>\n",
       "      <td>102</td>\n",
       "      <td>4294967295</td>\n",
       "      <td>0</td>\n",
       "      <td>0</td>\n",
       "      <td>9</td>\n",
       "      <td>3</td>\n",
       "      <td>177</td>\n",
       "      <td>33</td>\n",
       "      <td>195</td>\n",
       "      <td>1</td>\n",
       "    </tr>\n",
       "  </tbody>\n",
       "</table>\n",
       "</div>"
      ],
      "text/plain": [
       "      matchId radiant_win duration hero_id  account_id player_slot kills  \\\n",
       "0  4175786086           1     2408      70  4294967295           0    17   \n",
       "1  4175721477          -1     2706      10  4294967295           0    17   \n",
       "2  4175668662           1     2278      21  4294967295           0    13   \n",
       "3  4174486906          -1     1887      36   857908232           0     6   \n",
       "4  4174438727          -1     1421     102  4294967295           0     0   \n",
       "\n",
       "  deaths assists gold_per_min last_hits xp_per_min team  \n",
       "0      5      17          530       165        707    1  \n",
       "1      8       6          632       275        744    1  \n",
       "2      4      10          467       139        561    1  \n",
       "3      7       2          392       124        410    1  \n",
       "4      9       3          177        33        195    1  "
      ]
     },
     "execution_count": 8,
     "metadata": {},
     "output_type": "execute_result"
    }
   ],
   "source": [
    "# The same for test\n",
    "test2 = pd.DataFrame(columns=['matchId', 'radiant_win', 'duration', 'hero_id', 'account_id', 'player_slot', \n",
    "                              'kills', 'deaths', 'assists', 'gold_per_min', 'last_hits','xp_per_min'])\n",
    "for i in range(1,11):\n",
    "    d = test.iloc[1:,[0, 1, 4, i+4, i+14, i+24, i+34, i+44, i+54, i+64, i+74, i+84]]\n",
    "    d.columns = ['matchId', 'radiant_win', 'duration', 'hero_id', 'account_id', 'player_slot', \n",
    "                              'kills', 'deaths', 'assists', 'gold_per_min', 'last_hits','xp_per_min']\n",
    "    test2 = pd.concat([test2, d], axis=0, keys=None)\n",
    "print(test2.shape)\n",
    "test2['team'] = '1' # Radiant\n",
    "test2 = test2.reset_index()\n",
    "for i in range(int(test2.shape[0]/2-1),test2.shape[0]):\n",
    "    test2.at[i, 'team'] = '0' # Dire\n",
    "test2 = test2.drop('index', axis = 1)\n",
    "test2 = test2.drop_duplicates(keep = 'first')\n",
    "test2.head()"
   ]
  },
  {
   "cell_type": "code",
   "execution_count": 9,
   "metadata": {
    "scrolled": true
   },
   "outputs": [
    {
     "name": "stdout",
     "output_type": "stream",
     "text": [
      "0.26521384928716907\n"
     ]
    }
   ],
   "source": [
    "# check how many players of train data we have in test\n",
    "trainlist = list(train2['account_id'].unique())\n",
    "len(trainlist)\n",
    "testlist = list(test2['account_id'])\n",
    "len(testlist)\n",
    "compare = list(set(testlist) - set(trainlist))\n",
    "len(compare)\n",
    "count = 0\n",
    "for i in range(len(testlist)):\n",
    "    if testlist[i] in compare:\n",
    "        count = count+1\n",
    "print(count/len(testlist))  "
   ]
  },
  {
   "cell_type": "markdown",
   "metadata": {},
   "source": [
    "# Creation of New Features"
   ]
  },
  {
   "cell_type": "code",
   "execution_count": 10,
   "metadata": {},
   "outputs": [
    {
     "data": {
      "text/plain": [
       "matchId         int64\n",
       "radiant_win     int64\n",
       "duration        int64\n",
       "hero_id         int64\n",
       "account_id      int64\n",
       "player_slot     int64\n",
       "kills           int64\n",
       "deaths          int64\n",
       "assists         int64\n",
       "gold_per_min    int64\n",
       "last_hits       int64\n",
       "xp_per_min      int64\n",
       "team            int64\n",
       "dtype: object"
      ]
     },
     "execution_count": 10,
     "metadata": {},
     "output_type": "execute_result"
    }
   ],
   "source": [
    "# Convert data to numeric\n",
    "train2['matchId'] = pd.to_numeric(train2['matchId'])\n",
    "train2['radiant_win'] = pd.to_numeric(train2['radiant_win'])\n",
    "train2['duration'] = pd.to_numeric(train2['duration'])\n",
    "train2['hero_id'] = pd.to_numeric(train2['hero_id'])\n",
    "train2['account_id'] = pd.to_numeric(train2['account_id'])\n",
    "train2['player_slot'] = pd.to_numeric(train2['player_slot'])\n",
    "train2['kills'] = pd.to_numeric(train2['kills'])\n",
    "train2['deaths'] = pd.to_numeric(train2['deaths'])\n",
    "train2['assists'] = pd.to_numeric(train2['assists'])\n",
    "train2['gold_per_min'] = pd.to_numeric(train2['gold_per_min'])\n",
    "train2['last_hits'] = pd.to_numeric(train2['last_hits'])\n",
    "train2['xp_per_min'] = pd.to_numeric(train2['xp_per_min'])\n",
    "train2['team'] = pd.to_numeric(train2['team'])\n",
    "train2.dtypes"
   ]
  },
  {
   "cell_type": "code",
   "execution_count": 11,
   "metadata": {
    "scrolled": false
   },
   "outputs": [
    {
     "data": {
      "text/html": [
       "<div>\n",
       "<style scoped>\n",
       "    .dataframe tbody tr th:only-of-type {\n",
       "        vertical-align: middle;\n",
       "    }\n",
       "\n",
       "    .dataframe tbody tr th {\n",
       "        vertical-align: top;\n",
       "    }\n",
       "\n",
       "    .dataframe thead th {\n",
       "        text-align: right;\n",
       "    }\n",
       "</style>\n",
       "<table border=\"1\" class=\"dataframe\">\n",
       "  <thead>\n",
       "    <tr style=\"text-align: right;\">\n",
       "      <th></th>\n",
       "      <th>matchId</th>\n",
       "      <th>radiant_win</th>\n",
       "      <th>duration</th>\n",
       "      <th>hero_id</th>\n",
       "      <th>account_id</th>\n",
       "      <th>player_slot</th>\n",
       "      <th>kills</th>\n",
       "      <th>deaths</th>\n",
       "      <th>assists</th>\n",
       "      <th>gold_per_min</th>\n",
       "      <th>last_hits</th>\n",
       "      <th>xp_per_min</th>\n",
       "      <th>team</th>\n",
       "      <th>kills_per_min</th>\n",
       "      <th>deaths_per_min</th>\n",
       "      <th>assists_per_min</th>\n",
       "      <th>last_hits_per_min</th>\n",
       "    </tr>\n",
       "  </thead>\n",
       "  <tbody>\n",
       "    <tr>\n",
       "      <th>0</th>\n",
       "      <td>4244579889</td>\n",
       "      <td>-1</td>\n",
       "      <td>2211</td>\n",
       "      <td>35</td>\n",
       "      <td>91751637</td>\n",
       "      <td>0</td>\n",
       "      <td>3</td>\n",
       "      <td>10</td>\n",
       "      <td>11</td>\n",
       "      <td>393</td>\n",
       "      <td>155</td>\n",
       "      <td>417</td>\n",
       "      <td>1</td>\n",
       "      <td>0.081411</td>\n",
       "      <td>0.271370</td>\n",
       "      <td>0.298507</td>\n",
       "      <td>4.206242</td>\n",
       "    </tr>\n",
       "    <tr>\n",
       "      <th>1</th>\n",
       "      <td>4235878221</td>\n",
       "      <td>1</td>\n",
       "      <td>2408</td>\n",
       "      <td>25</td>\n",
       "      <td>171758899</td>\n",
       "      <td>0</td>\n",
       "      <td>16</td>\n",
       "      <td>9</td>\n",
       "      <td>13</td>\n",
       "      <td>575</td>\n",
       "      <td>198</td>\n",
       "      <td>649</td>\n",
       "      <td>1</td>\n",
       "      <td>0.398671</td>\n",
       "      <td>0.224252</td>\n",
       "      <td>0.323920</td>\n",
       "      <td>4.933555</td>\n",
       "    </tr>\n",
       "    <tr>\n",
       "      <th>2</th>\n",
       "      <td>4235835817</td>\n",
       "      <td>1</td>\n",
       "      <td>2786</td>\n",
       "      <td>11</td>\n",
       "      <td>89117038</td>\n",
       "      <td>0</td>\n",
       "      <td>14</td>\n",
       "      <td>11</td>\n",
       "      <td>14</td>\n",
       "      <td>601</td>\n",
       "      <td>310</td>\n",
       "      <td>716</td>\n",
       "      <td>1</td>\n",
       "      <td>0.301508</td>\n",
       "      <td>0.236899</td>\n",
       "      <td>0.301508</td>\n",
       "      <td>6.676238</td>\n",
       "    </tr>\n",
       "    <tr>\n",
       "      <th>3</th>\n",
       "      <td>4235786355</td>\n",
       "      <td>1</td>\n",
       "      <td>3235</td>\n",
       "      <td>11</td>\n",
       "      <td>4294967295</td>\n",
       "      <td>0</td>\n",
       "      <td>14</td>\n",
       "      <td>9</td>\n",
       "      <td>12</td>\n",
       "      <td>681</td>\n",
       "      <td>471</td>\n",
       "      <td>727</td>\n",
       "      <td>1</td>\n",
       "      <td>0.259660</td>\n",
       "      <td>0.166924</td>\n",
       "      <td>0.222566</td>\n",
       "      <td>8.735703</td>\n",
       "    </tr>\n",
       "    <tr>\n",
       "      <th>4</th>\n",
       "      <td>4235738179</td>\n",
       "      <td>1</td>\n",
       "      <td>2698</td>\n",
       "      <td>62</td>\n",
       "      <td>85536171</td>\n",
       "      <td>0</td>\n",
       "      <td>5</td>\n",
       "      <td>8</td>\n",
       "      <td>21</td>\n",
       "      <td>411</td>\n",
       "      <td>43</td>\n",
       "      <td>500</td>\n",
       "      <td>1</td>\n",
       "      <td>0.111193</td>\n",
       "      <td>0.177910</td>\n",
       "      <td>0.467013</td>\n",
       "      <td>0.956264</td>\n",
       "    </tr>\n",
       "  </tbody>\n",
       "</table>\n",
       "</div>"
      ],
      "text/plain": [
       "      matchId  radiant_win  duration  hero_id  account_id  player_slot  kills  \\\n",
       "0  4244579889           -1      2211       35    91751637            0      3   \n",
       "1  4235878221            1      2408       25   171758899            0     16   \n",
       "2  4235835817            1      2786       11    89117038            0     14   \n",
       "3  4235786355            1      3235       11  4294967295            0     14   \n",
       "4  4235738179            1      2698       62    85536171            0      5   \n",
       "\n",
       "   deaths  assists  gold_per_min  last_hits  xp_per_min  team  kills_per_min  \\\n",
       "0      10       11           393        155         417     1       0.081411   \n",
       "1       9       13           575        198         649     1       0.398671   \n",
       "2      11       14           601        310         716     1       0.301508   \n",
       "3       9       12           681        471         727     1       0.259660   \n",
       "4       8       21           411         43         500     1       0.111193   \n",
       "\n",
       "   deaths_per_min  assists_per_min  last_hits_per_min  \n",
       "0        0.271370         0.298507           4.206242  \n",
       "1        0.224252         0.323920           4.933555  \n",
       "2        0.236899         0.301508           6.676238  \n",
       "3        0.166924         0.222566           8.735703  \n",
       "4        0.177910         0.467013           0.956264  "
      ]
     },
     "execution_count": 11,
     "metadata": {},
     "output_type": "execute_result"
    }
   ],
   "source": [
    "# Calculate new variables with values per minute\n",
    "train2['kills_per_min'] = (train2['kills'] / train2['duration'] * 60)\n",
    "train2['deaths_per_min'] = (train2['deaths'] / train2['duration'] * 60)\n",
    "train2['assists_per_min'] = (train2['assists'] / train2['duration'] * 60)\n",
    "train2['last_hits_per_min'] = (train2['last_hits'] / train2['duration'] * 60)\n",
    "train2.head()"
   ]
  },
  {
   "cell_type": "markdown",
   "metadata": {},
   "source": [
    "# Features Analysis"
   ]
  },
  {
   "cell_type": "markdown",
   "metadata": {},
   "source": [
    "We will now see the behavior that our features have in the dataset and the creation of new ones based on them. We will also analyze these features to see if our final dataset is ready to train our model."
   ]
  },
  {
   "cell_type": "code",
   "execution_count": 12,
   "metadata": {},
   "outputs": [
    {
     "data": {
      "image/png": "[encoded data removed]",
      "text/plain": [
       "<Figure size 864x648 with 1 Axes>"
      ]
     },
     "metadata": {},
     "output_type": "display_data"
    }
   ],
   "source": [
    "#Histogram plot - duration of games\n",
    "plt.figure(figsize=(12, 9)) \n",
    "ax = plt.subplot(111)  \n",
    "ax.spines[\"top\"].set_visible(False)  \n",
    "ax.spines[\"right\"].set_visible(False)\n",
    "ax.get_xaxis().tick_bottom()  \n",
    "ax.get_yaxis().tick_left()\n",
    "plt.xticks(fontsize=14)  \n",
    "plt.yticks(range(2000, 15000, 2000), fontsize=14) \n",
    "plt.xlabel(\"Duration (in seconds)\", fontsize=16)  \n",
    "plt.ylabel(\"Count\", fontsize=16)  \n",
    "data['duration'].hist(color=\"#3F5D7D\", bins=100)\n",
    "plt.savefig(\"Dota2_games_duration\", bbox_inches=\"tight\")"
   ]
  },
  {
   "cell_type": "code",
   "execution_count": 15,
   "metadata": {},
   "outputs": [
    {
     "data": {
      "text/plain": [
       "<matplotlib.axes._subplots.AxesSubplot at 0x18c6a9bd2b0>"
      ]
     },
     "execution_count": 15,
     "metadata": {},
     "output_type": "execute_result"
    },
    {
     "data": {
      "image/png": "[encoded data removed]",
      "text/plain": [
       "<Figure size 432x288 with 1 Axes>"
      ]
     },
     "metadata": {},
     "output_type": "display_data"
    }
   ],
   "source": [
    "train2['gold_per_min'].hist()\n"
   ]
  },
  {
   "cell_type": "code",
   "execution_count": 13,
   "metadata": {},
   "outputs": [
    {
     "data": {
      "text/plain": [
       "<matplotlib.axes._subplots.AxesSubplot at 0x1f1ade8f978>"
      ]
     },
     "execution_count": 13,
     "metadata": {},
     "output_type": "execute_result"
    },
    {
     "data": {
      "image/png": "[encoded data removed]",
      "text/plain": [
       "<Figure size 864x648 with 1 Axes>"
      ]
     },
     "metadata": {},
     "output_type": "display_data"
    }
   ],
   "source": [
    "plt.figure(figsize=(12, 9)) \n",
    "ax = plt.subplot(111)  \n",
    "ax.spines[\"top\"].set_visible(False)  \n",
    "ax.spines[\"right\"].set_visible(False)\n",
    "ax.get_xaxis().tick_bottom()  \n",
    "ax.get_yaxis().tick_left()\n",
    "plt.xticks(fontsize=14)  \n",
    "plt.yticks(range(2000, 15000, 2000), fontsize=14) \n",
    "plt.xlabel(\"Gold per min\", fontsize=16)  \n",
    "plt.ylabel(\"Count\", fontsize=16)  \n",
    "train2['gold_per_min'].hist(color=\"#3F5D7D\", bins=100)\n",
    "#plt.savefig(\"Gold per min\", bbox_inches=\"tight\")"
   ]
  },
  {
   "cell_type": "code",
   "execution_count": 16,
   "metadata": {},
   "outputs": [
    {
     "data": {
      "text/plain": [
       "<matplotlib.axes._subplots.AxesSubplot at 0x18c70068d68>"
      ]
     },
     "execution_count": 16,
     "metadata": {},
     "output_type": "execute_result"
    },
    {
     "data": {
      "image/png": "[encoded data removed]",
      "text/plain": [
       "<Figure size 432x288 with 1 Axes>"
      ]
     },
     "metadata": {},
     "output_type": "display_data"
    }
   ],
   "source": [
    "train2['xp_per_min'].hist()"
   ]
  },
  {
   "cell_type": "code",
   "execution_count": 17,
   "metadata": {},
   "outputs": [
    {
     "data": {
      "text/plain": [
       "<matplotlib.axes._subplots.AxesSubplot at 0x18c6aa3a4a8>"
      ]
     },
     "execution_count": 17,
     "metadata": {},
     "output_type": "execute_result"
    },
    {
     "data": {
      "image/png": "[encoded data removed]",
      "text/plain": [
       "<Figure size 432x288 with 1 Axes>"
      ]
     },
     "metadata": {},
     "output_type": "display_data"
    }
   ],
   "source": [
    "train2['kills_per_min'].hist()"
   ]
  },
  {
   "cell_type": "code",
   "execution_count": 14,
   "metadata": {},
   "outputs": [
    {
     "data": {
      "text/plain": [
       "<matplotlib.axes._subplots.AxesSubplot at 0x1f1adb8b5f8>"
      ]
     },
     "execution_count": 14,
     "metadata": {},
     "output_type": "execute_result"
    },
    {
     "data": {
      "image/png": "[encoded data removed]",
      "text/plain": [
       "<Figure size 864x648 with 1 Axes>"
      ]
     },
     "metadata": {},
     "output_type": "display_data"
    }
   ],
   "source": [
    "plt.figure(figsize=(12, 9)) \n",
    "ax = plt.subplot(111)  \n",
    "ax.spines[\"top\"].set_visible(False)  \n",
    "ax.spines[\"right\"].set_visible(False)\n",
    "ax.get_xaxis().tick_bottom()  \n",
    "ax.get_yaxis().tick_left()\n",
    "plt.xticks(fontsize=14)  \n",
    "plt.yticks(range(2000, 15000, 2000), fontsize=14) \n",
    "plt.xlabel(\"kills_per_min\", fontsize=16)  \n",
    "plt.ylabel(\"Count\", fontsize=16)  \n",
    "train2['kills_per_min'].hist(color=\"#3F5D7D\", bins=100)\n",
    "#plt.savefig(\"Gold per min\", bbox_inches=\"tight\")"
   ]
  },
  {
   "cell_type": "code",
   "execution_count": 18,
   "metadata": {},
   "outputs": [
    {
     "data": {
      "text/plain": [
       "<matplotlib.axes._subplots.AxesSubplot at 0x18c70051630>"
      ]
     },
     "execution_count": 18,
     "metadata": {},
     "output_type": "execute_result"
    },
    {
     "data": {
      "image/png": "[encoded data removed]",
      "text/plain": [
       "<Figure size 432x288 with 1 Axes>"
      ]
     },
     "metadata": {},
     "output_type": "display_data"
    }
   ],
   "source": [
    "train2['deaths_per_min'].hist()"
   ]
  },
  {
   "cell_type": "code",
   "execution_count": 19,
   "metadata": {},
   "outputs": [
    {
     "data": {
      "text/plain": [
       "<matplotlib.axes._subplots.AxesSubplot at 0x18c00fc1a90>"
      ]
     },
     "execution_count": 19,
     "metadata": {},
     "output_type": "execute_result"
    },
    {
     "data": {
      "image/png": "[encoded data removed]",
      "text/plain": [
       "<Figure size 432x288 with 1 Axes>"
      ]
     },
     "metadata": {},
     "output_type": "display_data"
    }
   ],
   "source": [
    "train2['assists_per_min'].hist()"
   ]
  },
  {
   "cell_type": "code",
   "execution_count": 20,
   "metadata": {},
   "outputs": [
    {
     "data": {
      "text/plain": [
       "<matplotlib.axes._subplots.AxesSubplot at 0x18c00361e10>"
      ]
     },
     "execution_count": 20,
     "metadata": {},
     "output_type": "execute_result"
    },
    {
     "data": {
      "image/png": "[encoded data removed]",
      "text/plain": [
       "<Figure size 432x288 with 1 Axes>"
      ]
     },
     "metadata": {},
     "output_type": "display_data"
    }
   ],
   "source": [
    "train2['last_hits_per_min'].hist()"
   ]
  },
  {
   "cell_type": "code",
   "execution_count": 22,
   "metadata": {
    "scrolled": true
   },
   "outputs": [
    {
     "data": {
      "text/html": [
       "<div>\n",
       "<style scoped>\n",
       "    .dataframe tbody tr th:only-of-type {\n",
       "        vertical-align: middle;\n",
       "    }\n",
       "\n",
       "    .dataframe tbody tr th {\n",
       "        vertical-align: top;\n",
       "    }\n",
       "\n",
       "    .dataframe thead th {\n",
       "        text-align: right;\n",
       "    }\n",
       "</style>\n",
       "<table border=\"1\" class=\"dataframe\">\n",
       "  <thead>\n",
       "    <tr style=\"text-align: right;\">\n",
       "      <th></th>\n",
       "      <th>matchId</th>\n",
       "      <th>radiant_win</th>\n",
       "      <th>duration</th>\n",
       "      <th>hero_id</th>\n",
       "      <th>account_id</th>\n",
       "      <th>player_slot</th>\n",
       "      <th>kills</th>\n",
       "      <th>deaths</th>\n",
       "      <th>assists</th>\n",
       "      <th>gold_per_min</th>\n",
       "      <th>last_hits</th>\n",
       "      <th>xp_per_min</th>\n",
       "      <th>team</th>\n",
       "      <th>kills_per_min</th>\n",
       "      <th>deaths_per_min</th>\n",
       "      <th>assists_per_min</th>\n",
       "      <th>last_hits_per_min</th>\n",
       "      <th>w</th>\n",
       "    </tr>\n",
       "  </thead>\n",
       "  <tbody>\n",
       "    <tr>\n",
       "      <th>0</th>\n",
       "      <td>4244579889</td>\n",
       "      <td>-1</td>\n",
       "      <td>2211</td>\n",
       "      <td>35</td>\n",
       "      <td>91751637</td>\n",
       "      <td>0</td>\n",
       "      <td>3</td>\n",
       "      <td>10</td>\n",
       "      <td>11</td>\n",
       "      <td>393</td>\n",
       "      <td>155</td>\n",
       "      <td>417</td>\n",
       "      <td>1</td>\n",
       "      <td>0.081411</td>\n",
       "      <td>0.271370</td>\n",
       "      <td>0.298507</td>\n",
       "      <td>4.206242</td>\n",
       "      <td>0</td>\n",
       "    </tr>\n",
       "    <tr>\n",
       "      <th>1</th>\n",
       "      <td>4235878221</td>\n",
       "      <td>1</td>\n",
       "      <td>2408</td>\n",
       "      <td>25</td>\n",
       "      <td>171758899</td>\n",
       "      <td>0</td>\n",
       "      <td>16</td>\n",
       "      <td>9</td>\n",
       "      <td>13</td>\n",
       "      <td>575</td>\n",
       "      <td>198</td>\n",
       "      <td>649</td>\n",
       "      <td>1</td>\n",
       "      <td>0.398671</td>\n",
       "      <td>0.224252</td>\n",
       "      <td>0.323920</td>\n",
       "      <td>4.933555</td>\n",
       "      <td>1</td>\n",
       "    </tr>\n",
       "    <tr>\n",
       "      <th>2</th>\n",
       "      <td>4235835817</td>\n",
       "      <td>1</td>\n",
       "      <td>2786</td>\n",
       "      <td>11</td>\n",
       "      <td>89117038</td>\n",
       "      <td>0</td>\n",
       "      <td>14</td>\n",
       "      <td>11</td>\n",
       "      <td>14</td>\n",
       "      <td>601</td>\n",
       "      <td>310</td>\n",
       "      <td>716</td>\n",
       "      <td>1</td>\n",
       "      <td>0.301508</td>\n",
       "      <td>0.236899</td>\n",
       "      <td>0.301508</td>\n",
       "      <td>6.676238</td>\n",
       "      <td>1</td>\n",
       "    </tr>\n",
       "    <tr>\n",
       "      <th>3</th>\n",
       "      <td>4235786355</td>\n",
       "      <td>1</td>\n",
       "      <td>3235</td>\n",
       "      <td>11</td>\n",
       "      <td>4294967295</td>\n",
       "      <td>0</td>\n",
       "      <td>14</td>\n",
       "      <td>9</td>\n",
       "      <td>12</td>\n",
       "      <td>681</td>\n",
       "      <td>471</td>\n",
       "      <td>727</td>\n",
       "      <td>1</td>\n",
       "      <td>0.259660</td>\n",
       "      <td>0.166924</td>\n",
       "      <td>0.222566</td>\n",
       "      <td>8.735703</td>\n",
       "      <td>1</td>\n",
       "    </tr>\n",
       "    <tr>\n",
       "      <th>4</th>\n",
       "      <td>4235738179</td>\n",
       "      <td>1</td>\n",
       "      <td>2698</td>\n",
       "      <td>62</td>\n",
       "      <td>85536171</td>\n",
       "      <td>0</td>\n",
       "      <td>5</td>\n",
       "      <td>8</td>\n",
       "      <td>21</td>\n",
       "      <td>411</td>\n",
       "      <td>43</td>\n",
       "      <td>500</td>\n",
       "      <td>1</td>\n",
       "      <td>0.111193</td>\n",
       "      <td>0.177910</td>\n",
       "      <td>0.467013</td>\n",
       "      <td>0.956264</td>\n",
       "      <td>1</td>\n",
       "    </tr>\n",
       "  </tbody>\n",
       "</table>\n",
       "</div>"
      ],
      "text/plain": [
       "      matchId  radiant_win  duration  hero_id  account_id  player_slot  kills  \\\n",
       "0  4244579889           -1      2211       35    91751637            0      3   \n",
       "1  4235878221            1      2408       25   171758899            0     16   \n",
       "2  4235835817            1      2786       11    89117038            0     14   \n",
       "3  4235786355            1      3235       11  4294967295            0     14   \n",
       "4  4235738179            1      2698       62    85536171            0      5   \n",
       "\n",
       "   deaths  assists  gold_per_min  last_hits  xp_per_min  team  kills_per_min  \\\n",
       "0      10       11           393        155         417     1       0.081411   \n",
       "1       9       13           575        198         649     1       0.398671   \n",
       "2      11       14           601        310         716     1       0.301508   \n",
       "3       9       12           681        471         727     1       0.259660   \n",
       "4       8       21           411         43         500     1       0.111193   \n",
       "\n",
       "   deaths_per_min  assists_per_min  last_hits_per_min  w  \n",
       "0        0.271370         0.298507           4.206242  0  \n",
       "1        0.224252         0.323920           4.933555  1  \n",
       "2        0.236899         0.301508           6.676238  1  \n",
       "3        0.166924         0.222566           8.735703  1  \n",
       "4        0.177910         0.467013           0.956264  1  "
      ]
     },
     "execution_count": 22,
     "metadata": {},
     "output_type": "execute_result"
    }
   ],
   "source": [
    "# Create a veriable whether player win or not\n",
    "train2['w'] = train2['radiant_win'] + train2['team']\n",
    "train2 = train2.replace({'w': 2}, 10)\n",
    "train2 = train2.replace({'w': -1}, 10)\n",
    "train2 = train2.replace({'w': 1}, -10)\n",
    "train2 = train2.replace({'w': 0}, -10)\n",
    "train2 = train2.replace({'w': 10}, 1)\n",
    "train2 = train2.replace({'w': -10}, 0)\n",
    "train2.head()"
   ]
  },
  {
   "cell_type": "code",
   "execution_count": 28,
   "metadata": {
    "scrolled": true
   },
   "outputs": [
    {
     "data": {
      "text/html": [
       "<div>\n",
       "<style scoped>\n",
       "    .dataframe tbody tr th:only-of-type {\n",
       "        vertical-align: middle;\n",
       "    }\n",
       "\n",
       "    .dataframe tbody tr th {\n",
       "        vertical-align: top;\n",
       "    }\n",
       "\n",
       "    .dataframe thead th {\n",
       "        text-align: right;\n",
       "    }\n",
       "</style>\n",
       "<table border=\"1\" class=\"dataframe\">\n",
       "  <thead>\n",
       "    <tr style=\"text-align: right;\">\n",
       "      <th></th>\n",
       "      <th>kills</th>\n",
       "      <th>deaths</th>\n",
       "      <th>assists</th>\n",
       "      <th>gold_per_min</th>\n",
       "      <th>last_hits</th>\n",
       "      <th>xp_per_min</th>\n",
       "      <th>kills_per_min</th>\n",
       "      <th>deaths_per_min</th>\n",
       "      <th>assists_per_min</th>\n",
       "      <th>last_hits_per_min</th>\n",
       "      <th>w</th>\n",
       "      <th>num_games</th>\n",
       "      <th>win_rate</th>\n",
       "    </tr>\n",
       "    <tr>\n",
       "      <th>account_id</th>\n",
       "      <th></th>\n",
       "      <th></th>\n",
       "      <th></th>\n",
       "      <th></th>\n",
       "      <th></th>\n",
       "      <th></th>\n",
       "      <th></th>\n",
       "      <th></th>\n",
       "      <th></th>\n",
       "      <th></th>\n",
       "      <th></th>\n",
       "      <th></th>\n",
       "      <th></th>\n",
       "    </tr>\n",
       "  </thead>\n",
       "  <tbody>\n",
       "    <tr>\n",
       "      <th>15158</th>\n",
       "      <td>7.0</td>\n",
       "      <td>8.0</td>\n",
       "      <td>30.0</td>\n",
       "      <td>389.000000</td>\n",
       "      <td>164.000000</td>\n",
       "      <td>644.000000</td>\n",
       "      <td>0.122485</td>\n",
       "      <td>0.139983</td>\n",
       "      <td>0.524934</td>\n",
       "      <td>2.869641</td>\n",
       "      <td>0</td>\n",
       "      <td>1</td>\n",
       "      <td>0.000000</td>\n",
       "    </tr>\n",
       "    <tr>\n",
       "      <th>20642</th>\n",
       "      <td>8.0</td>\n",
       "      <td>6.0</td>\n",
       "      <td>9.0</td>\n",
       "      <td>1010.000000</td>\n",
       "      <td>78.000000</td>\n",
       "      <td>1463.000000</td>\n",
       "      <td>0.459770</td>\n",
       "      <td>0.344828</td>\n",
       "      <td>0.517241</td>\n",
       "      <td>4.482759</td>\n",
       "      <td>0</td>\n",
       "      <td>1</td>\n",
       "      <td>0.000000</td>\n",
       "    </tr>\n",
       "    <tr>\n",
       "      <th>26952</th>\n",
       "      <td>2.0</td>\n",
       "      <td>5.0</td>\n",
       "      <td>22.5</td>\n",
       "      <td>325.000000</td>\n",
       "      <td>96.000000</td>\n",
       "      <td>488.000000</td>\n",
       "      <td>0.049192</td>\n",
       "      <td>0.122980</td>\n",
       "      <td>0.520117</td>\n",
       "      <td>2.386819</td>\n",
       "      <td>1</td>\n",
       "      <td>2</td>\n",
       "      <td>0.500000</td>\n",
       "    </tr>\n",
       "    <tr>\n",
       "      <th>28787</th>\n",
       "      <td>7.0</td>\n",
       "      <td>14.0</td>\n",
       "      <td>18.0</td>\n",
       "      <td>333.000000</td>\n",
       "      <td>66.000000</td>\n",
       "      <td>393.000000</td>\n",
       "      <td>0.167397</td>\n",
       "      <td>0.334795</td>\n",
       "      <td>0.430450</td>\n",
       "      <td>1.578318</td>\n",
       "      <td>0</td>\n",
       "      <td>1</td>\n",
       "      <td>0.000000</td>\n",
       "    </tr>\n",
       "    <tr>\n",
       "      <th>30208</th>\n",
       "      <td>4.0</td>\n",
       "      <td>7.0</td>\n",
       "      <td>10.0</td>\n",
       "      <td>320.428571</td>\n",
       "      <td>70.857143</td>\n",
       "      <td>389.285714</td>\n",
       "      <td>0.132170</td>\n",
       "      <td>0.237172</td>\n",
       "      <td>0.315927</td>\n",
       "      <td>2.318371</td>\n",
       "      <td>2</td>\n",
       "      <td>7</td>\n",
       "      <td>0.285714</td>\n",
       "    </tr>\n",
       "  </tbody>\n",
       "</table>\n",
       "</div>"
      ],
      "text/plain": [
       "            kills  deaths  assists  gold_per_min   last_hits   xp_per_min  \\\n",
       "account_id                                                                  \n",
       "15158         7.0     8.0     30.0    389.000000  164.000000   644.000000   \n",
       "20642         8.0     6.0      9.0   1010.000000   78.000000  1463.000000   \n",
       "26952         2.0     5.0     22.5    325.000000   96.000000   488.000000   \n",
       "28787         7.0    14.0     18.0    333.000000   66.000000   393.000000   \n",
       "30208         4.0     7.0     10.0    320.428571   70.857143   389.285714   \n",
       "\n",
       "            kills_per_min  deaths_per_min  assists_per_min  last_hits_per_min  \\\n",
       "account_id                                                                      \n",
       "15158            0.122485        0.139983         0.524934           2.869641   \n",
       "20642            0.459770        0.344828         0.517241           4.482759   \n",
       "26952            0.049192        0.122980         0.520117           2.386819   \n",
       "28787            0.167397        0.334795         0.430450           1.578318   \n",
       "30208            0.132170        0.237172         0.315927           2.318371   \n",
       "\n",
       "            w  num_games  win_rate  \n",
       "account_id                          \n",
       "15158       0          1  0.000000  \n",
       "20642       0          1  0.000000  \n",
       "26952       1          2  0.500000  \n",
       "28787       0          1  0.000000  \n",
       "30208       2          7  0.285714  "
      ]
     },
     "execution_count": 28,
     "metadata": {},
     "output_type": "execute_result"
    }
   ],
   "source": [
    "#Group by account_id and calculate mean for values\n",
    "train_features = train2.groupby('account_id')['kills','deaths','assists', 'gold_per_min', 'last_hits', 'xp_per_min', 'kills_per_min', 'deaths_per_min', 'assists_per_min', 'last_hits_per_min'].aggregate('mean')\n",
    "train_features['w'] = train2.groupby('account_id')['w'].aggregate('sum')\n",
    "train_features['num_games'] = train2.groupby('account_id')['account_id'].aggregate('count')\n",
    "train_features['win_rate'] = train_features['w'] / train_features['num_games']\n",
    "train_features.head()"
   ]
  },
  {
   "cell_type": "code",
   "execution_count": 33,
   "metadata": {},
   "outputs": [
    {
     "data": {
      "text/html": [
       "<div>\n",
       "<style scoped>\n",
       "    .dataframe tbody tr th:only-of-type {\n",
       "        vertical-align: middle;\n",
       "    }\n",
       "\n",
       "    .dataframe tbody tr th {\n",
       "        vertical-align: top;\n",
       "    }\n",
       "\n",
       "    .dataframe thead th {\n",
       "        text-align: right;\n",
       "    }\n",
       "</style>\n",
       "<table border=\"1\" class=\"dataframe\">\n",
       "  <thead>\n",
       "    <tr style=\"text-align: right;\">\n",
       "      <th></th>\n",
       "      <th>kills</th>\n",
       "      <th>deaths</th>\n",
       "      <th>assists</th>\n",
       "      <th>gold_per_min</th>\n",
       "      <th>last_hits</th>\n",
       "      <th>xp_per_min</th>\n",
       "      <th>kills_per_min</th>\n",
       "      <th>deaths_per_min</th>\n",
       "      <th>assists_per_min</th>\n",
       "      <th>last_hits_per_min</th>\n",
       "      <th>w</th>\n",
       "      <th>num_games</th>\n",
       "      <th>win_rate</th>\n",
       "      <th>player_score</th>\n",
       "    </tr>\n",
       "    <tr>\n",
       "      <th>account_id</th>\n",
       "      <th></th>\n",
       "      <th></th>\n",
       "      <th></th>\n",
       "      <th></th>\n",
       "      <th></th>\n",
       "      <th></th>\n",
       "      <th></th>\n",
       "      <th></th>\n",
       "      <th></th>\n",
       "      <th></th>\n",
       "      <th></th>\n",
       "      <th></th>\n",
       "      <th></th>\n",
       "      <th></th>\n",
       "    </tr>\n",
       "  </thead>\n",
       "  <tbody>\n",
       "    <tr>\n",
       "      <th>15158</th>\n",
       "      <td>7.0</td>\n",
       "      <td>8.0</td>\n",
       "      <td>30.0</td>\n",
       "      <td>389.000000</td>\n",
       "      <td>164.000000</td>\n",
       "      <td>644.000000</td>\n",
       "      <td>0.122485</td>\n",
       "      <td>0.139983</td>\n",
       "      <td>0.524934</td>\n",
       "      <td>2.869641</td>\n",
       "      <td>0</td>\n",
       "      <td>1</td>\n",
       "      <td>0.000000</td>\n",
       "      <td>4.625000</td>\n",
       "    </tr>\n",
       "    <tr>\n",
       "      <th>20642</th>\n",
       "      <td>8.0</td>\n",
       "      <td>6.0</td>\n",
       "      <td>9.0</td>\n",
       "      <td>1010.000000</td>\n",
       "      <td>78.000000</td>\n",
       "      <td>1463.000000</td>\n",
       "      <td>0.459770</td>\n",
       "      <td>0.344828</td>\n",
       "      <td>0.517241</td>\n",
       "      <td>4.482759</td>\n",
       "      <td>0</td>\n",
       "      <td>1</td>\n",
       "      <td>0.000000</td>\n",
       "      <td>2.833333</td>\n",
       "    </tr>\n",
       "    <tr>\n",
       "      <th>26952</th>\n",
       "      <td>2.0</td>\n",
       "      <td>5.0</td>\n",
       "      <td>22.5</td>\n",
       "      <td>325.000000</td>\n",
       "      <td>96.000000</td>\n",
       "      <td>488.000000</td>\n",
       "      <td>0.049192</td>\n",
       "      <td>0.122980</td>\n",
       "      <td>0.520117</td>\n",
       "      <td>2.386819</td>\n",
       "      <td>1</td>\n",
       "      <td>2</td>\n",
       "      <td>0.500000</td>\n",
       "      <td>4.629294</td>\n",
       "    </tr>\n",
       "    <tr>\n",
       "      <th>28787</th>\n",
       "      <td>7.0</td>\n",
       "      <td>14.0</td>\n",
       "      <td>18.0</td>\n",
       "      <td>333.000000</td>\n",
       "      <td>66.000000</td>\n",
       "      <td>393.000000</td>\n",
       "      <td>0.167397</td>\n",
       "      <td>0.334795</td>\n",
       "      <td>0.430450</td>\n",
       "      <td>1.578318</td>\n",
       "      <td>0</td>\n",
       "      <td>1</td>\n",
       "      <td>0.000000</td>\n",
       "      <td>1.785714</td>\n",
       "    </tr>\n",
       "    <tr>\n",
       "      <th>30208</th>\n",
       "      <td>4.0</td>\n",
       "      <td>7.0</td>\n",
       "      <td>10.0</td>\n",
       "      <td>320.428571</td>\n",
       "      <td>70.857143</td>\n",
       "      <td>389.285714</td>\n",
       "      <td>0.132170</td>\n",
       "      <td>0.237172</td>\n",
       "      <td>0.315927</td>\n",
       "      <td>2.318371</td>\n",
       "      <td>2</td>\n",
       "      <td>7</td>\n",
       "      <td>0.285714</td>\n",
       "      <td>1.889334</td>\n",
       "    </tr>\n",
       "  </tbody>\n",
       "</table>\n",
       "</div>"
      ],
      "text/plain": [
       "            kills  deaths  assists  gold_per_min   last_hits   xp_per_min  \\\n",
       "account_id                                                                  \n",
       "15158         7.0     8.0     30.0    389.000000  164.000000   644.000000   \n",
       "20642         8.0     6.0      9.0   1010.000000   78.000000  1463.000000   \n",
       "26952         2.0     5.0     22.5    325.000000   96.000000   488.000000   \n",
       "28787         7.0    14.0     18.0    333.000000   66.000000   393.000000   \n",
       "30208         4.0     7.0     10.0    320.428571   70.857143   389.285714   \n",
       "\n",
       "            kills_per_min  deaths_per_min  assists_per_min  last_hits_per_min  \\\n",
       "account_id                                                                      \n",
       "15158            0.122485        0.139983         0.524934           2.869641   \n",
       "20642            0.459770        0.344828         0.517241           4.482759   \n",
       "26952            0.049192        0.122980         0.520117           2.386819   \n",
       "28787            0.167397        0.334795         0.430450           1.578318   \n",
       "30208            0.132170        0.237172         0.315927           2.318371   \n",
       "\n",
       "            w  num_games  win_rate  player_score  \n",
       "account_id                                        \n",
       "15158       0          1  0.000000      4.625000  \n",
       "20642       0          1  0.000000      2.833333  \n",
       "26952       1          2  0.500000      4.629294  \n",
       "28787       0          1  0.000000      1.785714  \n",
       "30208       2          7  0.285714      1.889334  "
      ]
     },
     "execution_count": 33,
     "metadata": {},
     "output_type": "execute_result"
    }
   ],
   "source": [
    "# Calculate a player score based on other features\n",
    "train_features['player_score'] = (train_features['kills_per_min'] + train_features['assists_per_min']) / train_features['deaths_per_min']\n",
    "train_features.head()"
   ]
  },
  {
   "cell_type": "code",
   "execution_count": 34,
   "metadata": {},
   "outputs": [
    {
     "data": {
      "text/html": [
       "<div>\n",
       "<style scoped>\n",
       "    .dataframe tbody tr th:only-of-type {\n",
       "        vertical-align: middle;\n",
       "    }\n",
       "\n",
       "    .dataframe tbody tr th {\n",
       "        vertical-align: top;\n",
       "    }\n",
       "\n",
       "    .dataframe thead th {\n",
       "        text-align: right;\n",
       "    }\n",
       "</style>\n",
       "<table border=\"1\" class=\"dataframe\">\n",
       "  <thead>\n",
       "    <tr style=\"text-align: right;\">\n",
       "      <th></th>\n",
       "      <th>matchId</th>\n",
       "      <th>radiant_win</th>\n",
       "      <th>account_id_1</th>\n",
       "      <th>account_id_2</th>\n",
       "      <th>account_id_3</th>\n",
       "      <th>account_id_4</th>\n",
       "      <th>account_id_5</th>\n",
       "      <th>account_id_6</th>\n",
       "      <th>account_id_7</th>\n",
       "      <th>account_id_8</th>\n",
       "      <th>account_id_9</th>\n",
       "      <th>account_id_10</th>\n",
       "    </tr>\n",
       "  </thead>\n",
       "  <tbody>\n",
       "    <tr>\n",
       "      <th>0</th>\n",
       "      <td>4244610789</td>\n",
       "      <td>-1</td>\n",
       "      <td>84379306</td>\n",
       "      <td>91751637</td>\n",
       "      <td>89117038</td>\n",
       "      <td>89209404</td>\n",
       "      <td>4294967295</td>\n",
       "      <td>54742520</td>\n",
       "      <td>55449748</td>\n",
       "      <td>41909889</td>\n",
       "      <td>4294967295</td>\n",
       "      <td>86724687</td>\n",
       "    </tr>\n",
       "    <tr>\n",
       "      <th>1</th>\n",
       "      <td>4244579889</td>\n",
       "      <td>-1</td>\n",
       "      <td>91751637</td>\n",
       "      <td>127723837</td>\n",
       "      <td>84379306</td>\n",
       "      <td>89209404</td>\n",
       "      <td>89117038</td>\n",
       "      <td>120920002</td>\n",
       "      <td>4294967295</td>\n",
       "      <td>121994758</td>\n",
       "      <td>181569885</td>\n",
       "      <td>82933694</td>\n",
       "    </tr>\n",
       "    <tr>\n",
       "      <th>2</th>\n",
       "      <td>4235878221</td>\n",
       "      <td>1</td>\n",
       "      <td>171758899</td>\n",
       "      <td>178406320</td>\n",
       "      <td>196875694</td>\n",
       "      <td>340824093</td>\n",
       "      <td>215942127</td>\n",
       "      <td>89117038</td>\n",
       "      <td>91371513</td>\n",
       "      <td>4294967295</td>\n",
       "      <td>84379306</td>\n",
       "      <td>4294967295</td>\n",
       "    </tr>\n",
       "    <tr>\n",
       "      <th>3</th>\n",
       "      <td>4235835817</td>\n",
       "      <td>1</td>\n",
       "      <td>89117038</td>\n",
       "      <td>91371513</td>\n",
       "      <td>4294967295</td>\n",
       "      <td>84379306</td>\n",
       "      <td>168659298</td>\n",
       "      <td>131551602</td>\n",
       "      <td>237376914</td>\n",
       "      <td>163136974</td>\n",
       "      <td>179240485</td>\n",
       "      <td>241174430</td>\n",
       "    </tr>\n",
       "    <tr>\n",
       "      <th>4</th>\n",
       "      <td>4235786355</td>\n",
       "      <td>1</td>\n",
       "      <td>4294967295</td>\n",
       "      <td>4294967295</td>\n",
       "      <td>56418606</td>\n",
       "      <td>98639370</td>\n",
       "      <td>86185976</td>\n",
       "      <td>114396149</td>\n",
       "      <td>4294967295</td>\n",
       "      <td>89117038</td>\n",
       "      <td>91371513</td>\n",
       "      <td>4294967295</td>\n",
       "    </tr>\n",
       "  </tbody>\n",
       "</table>\n",
       "</div>"
      ],
      "text/plain": [
       "      matchId  radiant_win  account_id_1  account_id_2  account_id_3  \\\n",
       "0  4244610789           -1      84379306      91751637      89117038   \n",
       "1  4244579889           -1      91751637     127723837      84379306   \n",
       "2  4235878221            1     171758899     178406320     196875694   \n",
       "3  4235835817            1      89117038      91371513    4294967295   \n",
       "4  4235786355            1    4294967295    4294967295      56418606   \n",
       "\n",
       "   account_id_4  account_id_5  account_id_6  account_id_7  account_id_8  \\\n",
       "0      89209404    4294967295      54742520      55449748      41909889   \n",
       "1      89209404      89117038     120920002    4294967295     121994758   \n",
       "2     340824093     215942127      89117038      91371513    4294967295   \n",
       "3      84379306     168659298     131551602     237376914     163136974   \n",
       "4      98639370      86185976     114396149    4294967295      89117038   \n",
       "\n",
       "   account_id_9  account_id_10  \n",
       "0    4294967295       86724687  \n",
       "1     181569885       82933694  \n",
       "2      84379306     4294967295  \n",
       "3     179240485      241174430  \n",
       "4      91371513     4294967295  "
      ]
     },
     "execution_count": 34,
     "metadata": {},
     "output_type": "execute_result"
    }
   ],
   "source": [
    "# Select the data only with match and players ID\n",
    "train3_1 = train[['matchId', 'radiant_win', 'account_id_1', 'account_id_2', 'account_id_3', 'account_id_4', 'account_id_5', 'account_id_6', 'account_id_7', 'account_id_8', 'account_id_9', 'account_id_10']]\n",
    "train3_1.head()"
   ]
  },
  {
   "cell_type": "code",
   "execution_count": 35,
   "metadata": {},
   "outputs": [
    {
     "data": {
      "text/html": [
       "<div>\n",
       "<style scoped>\n",
       "    .dataframe tbody tr th:only-of-type {\n",
       "        vertical-align: middle;\n",
       "    }\n",
       "\n",
       "    .dataframe tbody tr th {\n",
       "        vertical-align: top;\n",
       "    }\n",
       "\n",
       "    .dataframe thead th {\n",
       "        text-align: right;\n",
       "    }\n",
       "</style>\n",
       "<table border=\"1\" class=\"dataframe\">\n",
       "  <thead>\n",
       "    <tr style=\"text-align: right;\">\n",
       "      <th></th>\n",
       "      <th>gold_per_min</th>\n",
       "      <th>xp_per_min</th>\n",
       "      <th>kills_per_min</th>\n",
       "      <th>deaths_per_min</th>\n",
       "      <th>assists_per_min</th>\n",
       "      <th>last_hits_per_min</th>\n",
       "      <th>player_score</th>\n",
       "    </tr>\n",
       "    <tr>\n",
       "      <th>account_id</th>\n",
       "      <th></th>\n",
       "      <th></th>\n",
       "      <th></th>\n",
       "      <th></th>\n",
       "      <th></th>\n",
       "      <th></th>\n",
       "      <th></th>\n",
       "    </tr>\n",
       "  </thead>\n",
       "  <tbody>\n",
       "    <tr>\n",
       "      <th>15158</th>\n",
       "      <td>389.000000</td>\n",
       "      <td>644.000000</td>\n",
       "      <td>0.122485</td>\n",
       "      <td>0.139983</td>\n",
       "      <td>0.524934</td>\n",
       "      <td>2.869641</td>\n",
       "      <td>4.625000</td>\n",
       "    </tr>\n",
       "    <tr>\n",
       "      <th>20642</th>\n",
       "      <td>1010.000000</td>\n",
       "      <td>1463.000000</td>\n",
       "      <td>0.459770</td>\n",
       "      <td>0.344828</td>\n",
       "      <td>0.517241</td>\n",
       "      <td>4.482759</td>\n",
       "      <td>2.833333</td>\n",
       "    </tr>\n",
       "    <tr>\n",
       "      <th>26952</th>\n",
       "      <td>325.000000</td>\n",
       "      <td>488.000000</td>\n",
       "      <td>0.049192</td>\n",
       "      <td>0.122980</td>\n",
       "      <td>0.520117</td>\n",
       "      <td>2.386819</td>\n",
       "      <td>4.629294</td>\n",
       "    </tr>\n",
       "    <tr>\n",
       "      <th>28787</th>\n",
       "      <td>333.000000</td>\n",
       "      <td>393.000000</td>\n",
       "      <td>0.167397</td>\n",
       "      <td>0.334795</td>\n",
       "      <td>0.430450</td>\n",
       "      <td>1.578318</td>\n",
       "      <td>1.785714</td>\n",
       "    </tr>\n",
       "    <tr>\n",
       "      <th>30208</th>\n",
       "      <td>320.428571</td>\n",
       "      <td>389.285714</td>\n",
       "      <td>0.132170</td>\n",
       "      <td>0.237172</td>\n",
       "      <td>0.315927</td>\n",
       "      <td>2.318371</td>\n",
       "      <td>1.889334</td>\n",
       "    </tr>\n",
       "  </tbody>\n",
       "</table>\n",
       "</div>"
      ],
      "text/plain": [
       "            gold_per_min   xp_per_min  kills_per_min  deaths_per_min  \\\n",
       "account_id                                                             \n",
       "15158         389.000000   644.000000       0.122485        0.139983   \n",
       "20642        1010.000000  1463.000000       0.459770        0.344828   \n",
       "26952         325.000000   488.000000       0.049192        0.122980   \n",
       "28787         333.000000   393.000000       0.167397        0.334795   \n",
       "30208         320.428571   389.285714       0.132170        0.237172   \n",
       "\n",
       "            assists_per_min  last_hits_per_min  player_score  \n",
       "account_id                                                    \n",
       "15158              0.524934           2.869641      4.625000  \n",
       "20642              0.517241           4.482759      2.833333  \n",
       "26952              0.520117           2.386819      4.629294  \n",
       "28787              0.430450           1.578318      1.785714  \n",
       "30208              0.315927           2.318371      1.889334  "
      ]
     },
     "execution_count": 35,
     "metadata": {},
     "output_type": "execute_result"
    }
   ],
   "source": [
    "# Select relevant variables\n",
    "train_featuresJoint = train_features[['gold_per_min', 'xp_per_min', 'kills_per_min', 'deaths_per_min', 'assists_per_min', \n",
    "                                      'last_hits_per_min','player_score']]\n",
    "train_featuresJoint.head()"
   ]
  },
  {
   "cell_type": "markdown",
   "metadata": {},
   "source": [
    "We want to analyze if the final features that we create are correlated just to ensure that we have a good Dataset. We can see in the following correlation matrix that there is not any high correlation between the features."
   ]
  },
  {
   "cell_type": "code",
   "execution_count": 36,
   "metadata": {},
   "outputs": [],
   "source": [
    "def plot_corr(df,size=10):\n",
    "    '''Function plots a graphical correlation matrix for each pair of columns in the dataframe.\n",
    "\n",
    "    Input:\n",
    "        df: pandas DataFrame\n",
    "        size: vertical and horizontal size of the plot'''\n",
    "\n",
    "    corr = df.corr()\n",
    "    fig, ax = plt.subplots(figsize=(size, size))\n",
    "    ax.matshow(corr)\n",
    "    plt.xticks(range(len(corr.columns)), corr.columns);\n",
    "    plt.yticks(range(len(corr.columns)), corr.columns);"
   ]
  },
  {
   "cell_type": "code",
   "execution_count": 37,
   "metadata": {
    "scrolled": true
   },
   "outputs": [
    {
     "data": {
      "text/html": [
       "<div>\n",
       "<style scoped>\n",
       "    .dataframe tbody tr th:only-of-type {\n",
       "        vertical-align: middle;\n",
       "    }\n",
       "\n",
       "    .dataframe tbody tr th {\n",
       "        vertical-align: top;\n",
       "    }\n",
       "\n",
       "    .dataframe thead th {\n",
       "        text-align: right;\n",
       "    }\n",
       "</style>\n",
       "<table border=\"1\" class=\"dataframe\">\n",
       "  <thead>\n",
       "    <tr style=\"text-align: right;\">\n",
       "      <th></th>\n",
       "      <th>gold_per_min</th>\n",
       "      <th>xp_per_min</th>\n",
       "      <th>kills_per_min</th>\n",
       "      <th>deaths_per_min</th>\n",
       "      <th>assists_per_min</th>\n",
       "      <th>last_hits_per_min</th>\n",
       "      <th>player_score</th>\n",
       "    </tr>\n",
       "  </thead>\n",
       "  <tbody>\n",
       "    <tr>\n",
       "      <th>gold_per_min</th>\n",
       "      <td>1.000000</td>\n",
       "      <td>0.865768</td>\n",
       "      <td>0.651041</td>\n",
       "      <td>-0.428465</td>\n",
       "      <td>0.068542</td>\n",
       "      <td>0.723014</td>\n",
       "      <td>0.420414</td>\n",
       "    </tr>\n",
       "    <tr>\n",
       "      <th>xp_per_min</th>\n",
       "      <td>0.865768</td>\n",
       "      <td>1.000000</td>\n",
       "      <td>0.542564</td>\n",
       "      <td>-0.320562</td>\n",
       "      <td>0.182855</td>\n",
       "      <td>0.494528</td>\n",
       "      <td>0.349421</td>\n",
       "    </tr>\n",
       "    <tr>\n",
       "      <th>kills_per_min</th>\n",
       "      <td>0.651041</td>\n",
       "      <td>0.542564</td>\n",
       "      <td>1.000000</td>\n",
       "      <td>-0.327152</td>\n",
       "      <td>0.086713</td>\n",
       "      <td>0.432621</td>\n",
       "      <td>0.483581</td>\n",
       "    </tr>\n",
       "    <tr>\n",
       "      <th>deaths_per_min</th>\n",
       "      <td>-0.428465</td>\n",
       "      <td>-0.320562</td>\n",
       "      <td>-0.327152</td>\n",
       "      <td>1.000000</td>\n",
       "      <td>-0.148557</td>\n",
       "      <td>-0.416925</td>\n",
       "      <td>-0.599702</td>\n",
       "    </tr>\n",
       "    <tr>\n",
       "      <th>assists_per_min</th>\n",
       "      <td>0.068542</td>\n",
       "      <td>0.182855</td>\n",
       "      <td>0.086713</td>\n",
       "      <td>-0.148557</td>\n",
       "      <td>1.000000</td>\n",
       "      <td>-0.252195</td>\n",
       "      <td>0.377199</td>\n",
       "    </tr>\n",
       "    <tr>\n",
       "      <th>last_hits_per_min</th>\n",
       "      <td>0.723014</td>\n",
       "      <td>0.494528</td>\n",
       "      <td>0.432621</td>\n",
       "      <td>-0.416925</td>\n",
       "      <td>-0.252195</td>\n",
       "      <td>1.000000</td>\n",
       "      <td>0.261513</td>\n",
       "    </tr>\n",
       "    <tr>\n",
       "      <th>player_score</th>\n",
       "      <td>0.420414</td>\n",
       "      <td>0.349421</td>\n",
       "      <td>0.483581</td>\n",
       "      <td>-0.599702</td>\n",
       "      <td>0.377199</td>\n",
       "      <td>0.261513</td>\n",
       "      <td>1.000000</td>\n",
       "    </tr>\n",
       "  </tbody>\n",
       "</table>\n",
       "</div>"
      ],
      "text/plain": [
       "                   gold_per_min  xp_per_min  kills_per_min  deaths_per_min  \\\n",
       "gold_per_min           1.000000    0.865768       0.651041       -0.428465   \n",
       "xp_per_min             0.865768    1.000000       0.542564       -0.320562   \n",
       "kills_per_min          0.651041    0.542564       1.000000       -0.327152   \n",
       "deaths_per_min        -0.428465   -0.320562      -0.327152        1.000000   \n",
       "assists_per_min        0.068542    0.182855       0.086713       -0.148557   \n",
       "last_hits_per_min      0.723014    0.494528       0.432621       -0.416925   \n",
       "player_score           0.420414    0.349421       0.483581       -0.599702   \n",
       "\n",
       "                   assists_per_min  last_hits_per_min  player_score  \n",
       "gold_per_min              0.068542           0.723014      0.420414  \n",
       "xp_per_min                0.182855           0.494528      0.349421  \n",
       "kills_per_min             0.086713           0.432621      0.483581  \n",
       "deaths_per_min           -0.148557          -0.416925     -0.599702  \n",
       "assists_per_min           1.000000          -0.252195      0.377199  \n",
       "last_hits_per_min        -0.252195           1.000000      0.261513  \n",
       "player_score              0.377199           0.261513      1.000000  "
      ]
     },
     "execution_count": 37,
     "metadata": {},
     "output_type": "execute_result"
    }
   ],
   "source": [
    "train_featuresJoint.corr()"
   ]
  },
  {
   "cell_type": "code",
   "execution_count": 38,
   "metadata": {},
   "outputs": [
    {
     "data": {
      "image/png": "[encoded data removed]",
      "text/plain": [
       "<Figure size 720x720 with 1 Axes>"
      ]
     },
     "metadata": {},
     "output_type": "display_data"
    }
   ],
   "source": [
    "plot_corr(train_featuresJoint)"
   ]
  },
  {
   "cell_type": "code",
   "execution_count": 39,
   "metadata": {
    "scrolled": true
   },
   "outputs": [
    {
     "data": {
      "text/html": [
       "<div>\n",
       "<style scoped>\n",
       "    .dataframe tbody tr th:only-of-type {\n",
       "        vertical-align: middle;\n",
       "    }\n",
       "\n",
       "    .dataframe tbody tr th {\n",
       "        vertical-align: top;\n",
       "    }\n",
       "\n",
       "    .dataframe thead th {\n",
       "        text-align: right;\n",
       "    }\n",
       "</style>\n",
       "<table border=\"1\" class=\"dataframe\">\n",
       "  <thead>\n",
       "    <tr style=\"text-align: right;\">\n",
       "      <th></th>\n",
       "      <th>matchId</th>\n",
       "      <th>radiant_win</th>\n",
       "      <th>duration</th>\n",
       "      <th>hero_id</th>\n",
       "      <th>account_id</th>\n",
       "      <th>player_slot</th>\n",
       "      <th>kills</th>\n",
       "      <th>deaths</th>\n",
       "      <th>assists</th>\n",
       "      <th>gold_per_min</th>\n",
       "      <th>last_hits</th>\n",
       "      <th>xp_per_min</th>\n",
       "      <th>team</th>\n",
       "      <th>kills_per_min</th>\n",
       "      <th>deaths_per_min</th>\n",
       "      <th>assists_per_min</th>\n",
       "      <th>last_hits_per_min</th>\n",
       "      <th>w</th>\n",
       "    </tr>\n",
       "  </thead>\n",
       "  <tbody>\n",
       "    <tr>\n",
       "      <th>0</th>\n",
       "      <td>4244579889</td>\n",
       "      <td>-1</td>\n",
       "      <td>2211</td>\n",
       "      <td>35</td>\n",
       "      <td>91751637</td>\n",
       "      <td>0</td>\n",
       "      <td>3</td>\n",
       "      <td>10</td>\n",
       "      <td>11</td>\n",
       "      <td>393</td>\n",
       "      <td>155</td>\n",
       "      <td>417</td>\n",
       "      <td>1</td>\n",
       "      <td>0.081411</td>\n",
       "      <td>0.271370</td>\n",
       "      <td>0.298507</td>\n",
       "      <td>4.206242</td>\n",
       "      <td>0</td>\n",
       "    </tr>\n",
       "    <tr>\n",
       "      <th>1</th>\n",
       "      <td>4235878221</td>\n",
       "      <td>1</td>\n",
       "      <td>2408</td>\n",
       "      <td>25</td>\n",
       "      <td>171758899</td>\n",
       "      <td>0</td>\n",
       "      <td>16</td>\n",
       "      <td>9</td>\n",
       "      <td>13</td>\n",
       "      <td>575</td>\n",
       "      <td>198</td>\n",
       "      <td>649</td>\n",
       "      <td>1</td>\n",
       "      <td>0.398671</td>\n",
       "      <td>0.224252</td>\n",
       "      <td>0.323920</td>\n",
       "      <td>4.933555</td>\n",
       "      <td>1</td>\n",
       "    </tr>\n",
       "    <tr>\n",
       "      <th>2</th>\n",
       "      <td>4235835817</td>\n",
       "      <td>1</td>\n",
       "      <td>2786</td>\n",
       "      <td>11</td>\n",
       "      <td>89117038</td>\n",
       "      <td>0</td>\n",
       "      <td>14</td>\n",
       "      <td>11</td>\n",
       "      <td>14</td>\n",
       "      <td>601</td>\n",
       "      <td>310</td>\n",
       "      <td>716</td>\n",
       "      <td>1</td>\n",
       "      <td>0.301508</td>\n",
       "      <td>0.236899</td>\n",
       "      <td>0.301508</td>\n",
       "      <td>6.676238</td>\n",
       "      <td>1</td>\n",
       "    </tr>\n",
       "    <tr>\n",
       "      <th>3</th>\n",
       "      <td>4235786355</td>\n",
       "      <td>1</td>\n",
       "      <td>3235</td>\n",
       "      <td>11</td>\n",
       "      <td>4294967295</td>\n",
       "      <td>0</td>\n",
       "      <td>14</td>\n",
       "      <td>9</td>\n",
       "      <td>12</td>\n",
       "      <td>681</td>\n",
       "      <td>471</td>\n",
       "      <td>727</td>\n",
       "      <td>1</td>\n",
       "      <td>0.259660</td>\n",
       "      <td>0.166924</td>\n",
       "      <td>0.222566</td>\n",
       "      <td>8.735703</td>\n",
       "      <td>1</td>\n",
       "    </tr>\n",
       "    <tr>\n",
       "      <th>4</th>\n",
       "      <td>4235738179</td>\n",
       "      <td>1</td>\n",
       "      <td>2698</td>\n",
       "      <td>62</td>\n",
       "      <td>85536171</td>\n",
       "      <td>0</td>\n",
       "      <td>5</td>\n",
       "      <td>8</td>\n",
       "      <td>21</td>\n",
       "      <td>411</td>\n",
       "      <td>43</td>\n",
       "      <td>500</td>\n",
       "      <td>1</td>\n",
       "      <td>0.111193</td>\n",
       "      <td>0.177910</td>\n",
       "      <td>0.467013</td>\n",
       "      <td>0.956264</td>\n",
       "      <td>1</td>\n",
       "    </tr>\n",
       "  </tbody>\n",
       "</table>\n",
       "</div>"
      ],
      "text/plain": [
       "      matchId  radiant_win  duration  hero_id  account_id  player_slot  kills  \\\n",
       "0  4244579889           -1      2211       35    91751637            0      3   \n",
       "1  4235878221            1      2408       25   171758899            0     16   \n",
       "2  4235835817            1      2786       11    89117038            0     14   \n",
       "3  4235786355            1      3235       11  4294967295            0     14   \n",
       "4  4235738179            1      2698       62    85536171            0      5   \n",
       "\n",
       "   deaths  assists  gold_per_min  last_hits  xp_per_min  team  kills_per_min  \\\n",
       "0      10       11           393        155         417     1       0.081411   \n",
       "1       9       13           575        198         649     1       0.398671   \n",
       "2      11       14           601        310         716     1       0.301508   \n",
       "3       9       12           681        471         727     1       0.259660   \n",
       "4       8       21           411         43         500     1       0.111193   \n",
       "\n",
       "   deaths_per_min  assists_per_min  last_hits_per_min  w  \n",
       "0        0.271370         0.298507           4.206242  0  \n",
       "1        0.224252         0.323920           4.933555  1  \n",
       "2        0.236899         0.301508           6.676238  1  \n",
       "3        0.166924         0.222566           8.735703  1  \n",
       "4        0.177910         0.467013           0.956264  1  "
      ]
     },
     "execution_count": 39,
     "metadata": {},
     "output_type": "execute_result"
    }
   ],
   "source": [
    "train2.head()"
   ]
  },
  {
   "cell_type": "markdown",
   "metadata": {},
   "source": [
    "# Variance Reduction with Ordering"
   ]
  },
  {
   "cell_type": "code",
   "execution_count": 40,
   "metadata": {
    "scrolled": true
   },
   "outputs": [],
   "source": [
    "# Merge the two data set (games with features)\n",
    "train3_1 = train[['matchId', 'radiant_win', 'account_id_1', 'account_id_2', 'account_id_3', 'account_id_4', 'account_id_5', 'account_id_6', 'account_id_7', 'account_id_8', 'account_id_9', 'account_id_10']]\n",
    "train3_1 = train3_1.merge(train_featuresJoint, left_on='account_id_1', right_on='account_id', how = 'left', suffixes=('', '_P1'), copy='True')\n",
    "train3_1 = train3_1.reset_index()\n",
    "train3_1 = train3_1.merge(train_featuresJoint, left_on='account_id_2', right_on='account_id', how = 'left', suffixes=('', '_P2'), copy='True')\n",
    "train3_1 = train3_1.reset_index()\n",
    "train3_1 = train3_1.drop(columns = 'level_0')\n",
    "train3_1 = train3_1.merge(train_featuresJoint, left_on='account_id_3', right_on='account_id', how = 'left', suffixes=('', '_P3'), copy='True')\n",
    "train3_1 = train3_1.reset_index()\n",
    "train3_1 = train3_1.drop(columns = 'level_0')\n",
    "train3_1 = train3_1.merge(train_featuresJoint, left_on='account_id_4', right_on='account_id', how = 'left', suffixes=('', '_P4'), copy='True')\n",
    "train3_1 = train3_1.reset_index()\n",
    "train3_1 = train3_1.drop(columns = 'level_0')\n",
    "train3_1 = train3_1.merge(train_featuresJoint, left_on='account_id_5', right_on='account_id', how = 'left', suffixes=('', '_P5'), copy='True')\n",
    "train3_1 = train3_1.reset_index()\n",
    "train3_1 = train3_1.drop(columns = 'level_0')\n",
    "train3_1 = train3_1.merge(train_featuresJoint, left_on='account_id_6', right_on='account_id', how = 'left', suffixes=('', '_P6'), copy='True')\n",
    "train3_1 = train3_1.reset_index()\n",
    "train3_1 = train3_1.drop(columns = 'level_0')\n",
    "train3_1 = train3_1.merge(train_featuresJoint, left_on='account_id_7', right_on='account_id', how = 'left', suffixes=('', '_P7'), copy='True')\n",
    "train3_1 = train3_1.reset_index()\n",
    "train3_1 = train3_1.drop(columns = 'level_0')\n",
    "train3_1 = train3_1.merge(train_featuresJoint, left_on='account_id_8', right_on='account_id', how = 'left', suffixes=('', '_P8'), copy='True')\n",
    "train3_1 = train3_1.reset_index()\n",
    "train3_1 = train3_1.drop(columns = 'level_0')\n",
    "train3_1 = train3_1.merge(train_featuresJoint, left_on='account_id_9', right_on='account_id', how = 'left', suffixes=('', '_P9'), copy='True')\n",
    "train3_1 = train3_1.reset_index()\n",
    "train3_1 = train3_1.drop(columns = 'level_0')\n",
    "train3_1 = train3_1.merge(train_featuresJoint, left_on='account_id_10', right_on='account_id', how = 'left', suffixes=('', '_P10'), copy='True')"
   ]
  },
  {
   "cell_type": "code",
   "execution_count": 41,
   "metadata": {},
   "outputs": [],
   "source": [
    "train3_1['Rplayer1'] = '0'\n",
    "train3_1['Rplayer1'] = train3_1['Rplayer1'].astype(np.int64)\n",
    "train3_1['Rplayer2'] = '0'\n",
    "train3_1['Rplayer2'] = train3_1['Rplayer2'].astype(np.int64)\n",
    "train3_1['Rplayer3'] = '0'\n",
    "train3_1['Rplayer3'] = train3_1['Rplayer3'].astype(np.int64)\n",
    "train3_1['Rplayer4'] = '0'\n",
    "train3_1['Rplayer4'] = train3_1['Rplayer4'].astype(np.int64)\n",
    "train3_1['Rplayer5'] = '0'\n",
    "train3_1['Rplayer5'] = train3_1['Rplayer5'].astype(np.int64)\n",
    "train3_1['Dplayer1'] = '0'\n",
    "train3_1['Dplayer1'] = train3_1['Dplayer1'].astype(np.int64)\n",
    "train3_1['Dplayer2'] = '0'\n",
    "train3_1['Dplayer2'] = train3_1['Dplayer2'].astype(np.int64)\n",
    "train3_1['Dplayer3'] = '0'\n",
    "train3_1['Dplayer3'] = train3_1['Dplayer3'].astype(np.int64)\n",
    "train3_1['Dplayer4'] = '0'\n",
    "train3_1['Dplayer4'] = train3_1['Dplayer4'].astype(np.int64)\n",
    "train3_1['Dplayer5'] = '0'\n",
    "train3_1['Dplayer5'] = train3_1['Dplayer5'].astype(np.int64)"
   ]
  },
  {
   "cell_type": "code",
   "execution_count": 42,
   "metadata": {},
   "outputs": [],
   "source": [
    "columnofscores = {'Rscores': [], 'Dscores': []}"
   ]
  },
  {
   "cell_type": "code",
   "execution_count": 43,
   "metadata": {},
   "outputs": [],
   "source": [
    "# Create a list of scores for a player in a team for the Radiant team\n",
    "for i in range(train3_1.shape[0]):\n",
    "    a = [train3_1['player_score'][i], train3_1['player_score_P2'][i], train3_1['player_score_P3'][i], train3_1['player_score_P4'][i], train3_1['player_score_P5'][i]]\n",
    "    np.asarray(a)\n",
    "    b = np.argsort(a)\n",
    "    columnofscores['Rscores'].append(b)"
   ]
  },
  {
   "cell_type": "code",
   "execution_count": 44,
   "metadata": {},
   "outputs": [],
   "source": [
    "# Create a list of scores for a player in a team for the Dire team\n",
    "for i in range(train3_1.shape[0]):\n",
    "    a = [train3_1['player_score_P6'][i], train3_1['player_score_P7'][i], train3_1['player_score_P8'][i], train3_1['player_score_P9'][i], train3_1['player_score_P10'][i]]\n",
    "    np.asarray(a)\n",
    "    b = np.argsort(a)\n",
    "    columnofscores['Dscores'].append(b)"
   ]
  },
  {
   "cell_type": "code",
   "execution_count": 45,
   "metadata": {},
   "outputs": [
    {
     "name": "stdout",
     "output_type": "stream",
     "text": [
      "[3 1 0 4 2]\n",
      "[3 0 1 2 4]\n",
      "[3 1 0 2 4]\n",
      "[2 1 0 4 3]\n"
     ]
    }
   ],
   "source": [
    "# Print thr ordering\n",
    "print(columnofscores['Rscores'][0])\n",
    "print(columnofscores['Dscores'][0])\n",
    "print(columnofscores['Rscores'][1])\n",
    "print(columnofscores['Dscores'][1])"
   ]
  },
  {
   "cell_type": "code",
   "execution_count": 46,
   "metadata": {},
   "outputs": [],
   "source": [
    "lenght = train3_1.shape[0] "
   ]
  },
  {
   "cell_type": "code",
   "execution_count": 47,
   "metadata": {
    "scrolled": true
   },
   "outputs": [],
   "source": [
    "# For each tean and game create the list of ranges(positions) to reorder them\n",
    "for i in range(lenght):\n",
    "    a = int(3 + columnofscores['Rscores'][i][4])\n",
    "    train3_1.loc[i,'Rplayer1'] = np.int64(train3_1[train3_1.columns[a]][i])"
   ]
  },
  {
   "cell_type": "code",
   "execution_count": 48,
   "metadata": {},
   "outputs": [
    {
     "data": {
      "text/plain": [
       "89117038"
      ]
     },
     "execution_count": 48,
     "metadata": {},
     "output_type": "execute_result"
    }
   ],
   "source": [
    "train3_1.loc[0,'Rplayer1']"
   ]
  },
  {
   "cell_type": "code",
   "execution_count": 49,
   "metadata": {},
   "outputs": [],
   "source": [
    "for i in range(lenght):\n",
    "    a = int(3 + columnofscores['Rscores'][i][3])\n",
    "    train3_1.loc[i,'Rplayer2'] = np.int64(train3_1[train3_1.columns[a]][i])"
   ]
  },
  {
   "cell_type": "code",
   "execution_count": 50,
   "metadata": {},
   "outputs": [],
   "source": [
    "for i in range(lenght):\n",
    "    a = int(3 + columnofscores['Rscores'][i][2])\n",
    "    train3_1.loc[i,'Rplayer3'] = np.int64(train3_1[train3_1.columns[a]][i])"
   ]
  },
  {
   "cell_type": "code",
   "execution_count": 51,
   "metadata": {},
   "outputs": [],
   "source": [
    "for i in range(lenght):\n",
    "    a = int(3 + columnofscores['Rscores'][i][1])\n",
    "    train3_1.loc[i,'Rplayer4'] = np.int64(train3_1[train3_1.columns[a]][i])"
   ]
  },
  {
   "cell_type": "code",
   "execution_count": 52,
   "metadata": {},
   "outputs": [],
   "source": [
    "for i in range(lenght):\n",
    "    a = int(3 + columnofscores['Rscores'][i][0])\n",
    "    train3_1.loc[i,'Rplayer5'] = np.int64(train3_1[train3_1.columns[a]][i])"
   ]
  },
  {
   "cell_type": "code",
   "execution_count": 53,
   "metadata": {},
   "outputs": [],
   "source": [
    "for i in range(lenght):\n",
    "    a = int(8 + columnofscores['Dscores'][i][4])\n",
    "    train3_1.loc[i,'Dplayer1'] = np.int64(train3_1[train3_1.columns[a]][i])"
   ]
  },
  {
   "cell_type": "code",
   "execution_count": 54,
   "metadata": {},
   "outputs": [],
   "source": [
    "for i in range(lenght):\n",
    "    a = int(8 + columnofscores['Dscores'][i][3])\n",
    "    train3_1.loc[i,'Dplayer2'] = np.int64(train3_1[train3_1.columns[a]][i])"
   ]
  },
  {
   "cell_type": "code",
   "execution_count": 55,
   "metadata": {},
   "outputs": [],
   "source": [
    "for i in range(lenght):\n",
    "    a = int(8 + columnofscores['Dscores'][i][2])\n",
    "    train3_1.loc[i,'Dplayer3'] = np.int64(train3_1[train3_1.columns[a]][i])"
   ]
  },
  {
   "cell_type": "code",
   "execution_count": 56,
   "metadata": {},
   "outputs": [],
   "source": [
    "for i in range(lenght):\n",
    "    a = int(8 + columnofscores['Dscores'][i][1])\n",
    "    train3_1.loc[i,'Dplayer4'] = np.int64(train3_1[train3_1.columns[a]][i])"
   ]
  },
  {
   "cell_type": "code",
   "execution_count": 57,
   "metadata": {},
   "outputs": [],
   "source": [
    "for i in range(lenght):\n",
    "    a = int(8 + columnofscores['Dscores'][i][0])\n",
    "    train3_1.loc[i,'Dplayer5'] = np.int64(train3_1[train3_1.columns[a]][i])"
   ]
  },
  {
   "cell_type": "code",
   "execution_count": 58,
   "metadata": {},
   "outputs": [
    {
     "data": {
      "text/html": [
       "<div>\n",
       "<style scoped>\n",
       "    .dataframe tbody tr th:only-of-type {\n",
       "        vertical-align: middle;\n",
       "    }\n",
       "\n",
       "    .dataframe tbody tr th {\n",
       "        vertical-align: top;\n",
       "    }\n",
       "\n",
       "    .dataframe thead th {\n",
       "        text-align: right;\n",
       "    }\n",
       "</style>\n",
       "<table border=\"1\" class=\"dataframe\">\n",
       "  <thead>\n",
       "    <tr style=\"text-align: right;\">\n",
       "      <th></th>\n",
       "      <th>matchId</th>\n",
       "      <th>radiant_win</th>\n",
       "      <th>Rplayer1</th>\n",
       "      <th>Rplayer2</th>\n",
       "      <th>Rplayer3</th>\n",
       "      <th>Rplayer4</th>\n",
       "      <th>Rplayer5</th>\n",
       "      <th>Dplayer1</th>\n",
       "      <th>Dplayer2</th>\n",
       "      <th>Dplayer3</th>\n",
       "      <th>Dplayer4</th>\n",
       "      <th>Dplayer5</th>\n",
       "    </tr>\n",
       "  </thead>\n",
       "  <tbody>\n",
       "    <tr>\n",
       "      <th>0</th>\n",
       "      <td>4244610789</td>\n",
       "      <td>-1</td>\n",
       "      <td>89117038</td>\n",
       "      <td>4294967295</td>\n",
       "      <td>84379306</td>\n",
       "      <td>91751637</td>\n",
       "      <td>89209404</td>\n",
       "      <td>86724687</td>\n",
       "      <td>41909889</td>\n",
       "      <td>55449748</td>\n",
       "      <td>54742520</td>\n",
       "      <td>4294967295</td>\n",
       "    </tr>\n",
       "    <tr>\n",
       "      <th>1</th>\n",
       "      <td>4244579889</td>\n",
       "      <td>-1</td>\n",
       "      <td>89117038</td>\n",
       "      <td>84379306</td>\n",
       "      <td>91751637</td>\n",
       "      <td>127723837</td>\n",
       "      <td>89209404</td>\n",
       "      <td>181569885</td>\n",
       "      <td>82933694</td>\n",
       "      <td>120920002</td>\n",
       "      <td>4294967295</td>\n",
       "      <td>121994758</td>\n",
       "    </tr>\n",
       "    <tr>\n",
       "      <th>2</th>\n",
       "      <td>4235878221</td>\n",
       "      <td>1</td>\n",
       "      <td>215942127</td>\n",
       "      <td>171758899</td>\n",
       "      <td>340824093</td>\n",
       "      <td>196875694</td>\n",
       "      <td>178406320</td>\n",
       "      <td>89117038</td>\n",
       "      <td>4294967295</td>\n",
       "      <td>4294967295</td>\n",
       "      <td>91371513</td>\n",
       "      <td>84379306</td>\n",
       "    </tr>\n",
       "    <tr>\n",
       "      <th>3</th>\n",
       "      <td>4235835817</td>\n",
       "      <td>1</td>\n",
       "      <td>89117038</td>\n",
       "      <td>4294967295</td>\n",
       "      <td>168659298</td>\n",
       "      <td>91371513</td>\n",
       "      <td>84379306</td>\n",
       "      <td>163136974</td>\n",
       "      <td>237376914</td>\n",
       "      <td>179240485</td>\n",
       "      <td>241174430</td>\n",
       "      <td>131551602</td>\n",
       "    </tr>\n",
       "    <tr>\n",
       "      <th>4</th>\n",
       "      <td>4235786355</td>\n",
       "      <td>1</td>\n",
       "      <td>4294967295</td>\n",
       "      <td>4294967295</td>\n",
       "      <td>98639370</td>\n",
       "      <td>86185976</td>\n",
       "      <td>56418606</td>\n",
       "      <td>89117038</td>\n",
       "      <td>114396149</td>\n",
       "      <td>4294967295</td>\n",
       "      <td>4294967295</td>\n",
       "      <td>91371513</td>\n",
       "    </tr>\n",
       "  </tbody>\n",
       "</table>\n",
       "</div>"
      ],
      "text/plain": [
       "      matchId  radiant_win    Rplayer1    Rplayer2   Rplayer3   Rplayer4  \\\n",
       "0  4244610789           -1    89117038  4294967295   84379306   91751637   \n",
       "1  4244579889           -1    89117038    84379306   91751637  127723837   \n",
       "2  4235878221            1   215942127   171758899  340824093  196875694   \n",
       "3  4235835817            1    89117038  4294967295  168659298   91371513   \n",
       "4  4235786355            1  4294967295  4294967295   98639370   86185976   \n",
       "\n",
       "    Rplayer5   Dplayer1    Dplayer2    Dplayer3    Dplayer4    Dplayer5  \n",
       "0   89209404   86724687    41909889    55449748    54742520  4294967295  \n",
       "1   89209404  181569885    82933694   120920002  4294967295   121994758  \n",
       "2  178406320   89117038  4294967295  4294967295    91371513    84379306  \n",
       "3   84379306  163136974   237376914   179240485   241174430   131551602  \n",
       "4   56418606   89117038   114396149  4294967295  4294967295    91371513  "
      ]
     },
     "execution_count": 58,
     "metadata": {},
     "output_type": "execute_result"
    }
   ],
   "source": [
    "# Create columns to put the score of the players\n",
    "train3_2 = train3_1[['matchId', 'radiant_win', 'Rplayer1', 'Rplayer2', 'Rplayer3', 'Rplayer4', 'Rplayer5', 'Dplayer1', 'Dplayer2', 'Dplayer3', 'Dplayer4', 'Dplayer5']]\n",
    "train3_2.head()"
   ]
  },
  {
   "cell_type": "code",
   "execution_count": 59,
   "metadata": {},
   "outputs": [],
   "source": [
    "train3_2 = train3_1[['matchId', 'radiant_win', 'Rplayer1', 'Rplayer2', 'Rplayer3', 'Rplayer4', 'Rplayer5', 'Dplayer1', 'Dplayer2', 'Dplayer3', 'Dplayer4', 'Dplayer5']]\n",
    "train3_2 = train3_2.merge(train_featuresJoint, left_on='Rplayer1', right_on='account_id', how = 'left', suffixes=('', '_P1'), copy='True')\n",
    "train3_2 = train3_2.reset_index()\n",
    "train3_2 = train3_2.merge(train_featuresJoint, left_on='Rplayer2', right_on='account_id', how = 'left', suffixes=('', '_P2'), copy='True')\n",
    "train3_2 = train3_2.reset_index()\n",
    "train3_2 = train3_2.drop(columns = 'level_0')\n",
    "train3_2 = train3_2.merge(train_featuresJoint, left_on='Rplayer3', right_on='account_id', how = 'left', suffixes=('', '_P3'), copy='True')\n",
    "train3_2 = train3_2.reset_index()\n",
    "train3_2 = train3_2.drop(columns = 'level_0')\n",
    "train3_2 = train3_2.merge(train_featuresJoint, left_on='Rplayer4', right_on='account_id', how = 'left', suffixes=('', '_P4'), copy='True')\n",
    "train3_2 = train3_2.reset_index()\n",
    "train3_2 = train3_2.drop(columns = 'level_0')\n",
    "train3_2 = train3_2.merge(train_featuresJoint, left_on='Rplayer5', right_on='account_id', how = 'left', suffixes=('', '_P5'), copy='True')\n",
    "train3_2 = train3_2.reset_index()\n",
    "train3_2 = train3_2.drop(columns = 'level_0')\n",
    "train3_2 = train3_2.merge(train_featuresJoint, left_on='Dplayer1', right_on='account_id', how = 'left', suffixes=('', '_P6'), copy='True')\n",
    "train3_2 = train3_2.reset_index()\n",
    "train3_2 = train3_2.drop(columns = 'level_0')\n",
    "train3_2 = train3_2.merge(train_featuresJoint, left_on='Dplayer2', right_on='account_id', how = 'left', suffixes=('', '_P7'), copy='True')\n",
    "train3_2 = train3_2.reset_index()\n",
    "train3_2 = train3_2.drop(columns = 'level_0')\n",
    "train3_2 = train3_2.merge(train_featuresJoint, left_on='Dplayer3', right_on='account_id', how = 'left', suffixes=('', '_P8'), copy='True')\n",
    "train3_2 = train3_2.reset_index()\n",
    "train3_2 = train3_2.drop(columns = 'level_0')\n",
    "train3_2 = train3_2.merge(train_featuresJoint, left_on='Dplayer4', right_on='account_id', how = 'left', suffixes=('', '_P9'), copy='True')\n",
    "train3_2 = train3_2.reset_index()\n",
    "train3_2 = train3_2.drop(columns = 'level_0')\n",
    "train3_2 = train3_2.merge(train_featuresJoint, left_on='Dplayer5', right_on='account_id', how = 'left', suffixes=('', '_P10'), copy='True')"
   ]
  },
  {
   "cell_type": "code",
   "execution_count": 60,
   "metadata": {
    "scrolled": true
   },
   "outputs": [
    {
     "data": {
      "text/html": [
       "<div>\n",
       "<style scoped>\n",
       "    .dataframe tbody tr th:only-of-type {\n",
       "        vertical-align: middle;\n",
       "    }\n",
       "\n",
       "    .dataframe tbody tr th {\n",
       "        vertical-align: top;\n",
       "    }\n",
       "\n",
       "    .dataframe thead th {\n",
       "        text-align: right;\n",
       "    }\n",
       "</style>\n",
       "<table border=\"1\" class=\"dataframe\">\n",
       "  <thead>\n",
       "    <tr style=\"text-align: right;\">\n",
       "      <th></th>\n",
       "      <th>index</th>\n",
       "      <th>matchId</th>\n",
       "      <th>radiant_win</th>\n",
       "      <th>Rplayer1</th>\n",
       "      <th>Rplayer2</th>\n",
       "      <th>Rplayer3</th>\n",
       "      <th>Rplayer4</th>\n",
       "      <th>Rplayer5</th>\n",
       "      <th>Dplayer1</th>\n",
       "      <th>Dplayer2</th>\n",
       "      <th>...</th>\n",
       "      <th>assists_per_min_P9</th>\n",
       "      <th>last_hits_per_min_P9</th>\n",
       "      <th>player_score_P9</th>\n",
       "      <th>gold_per_min_P10</th>\n",
       "      <th>xp_per_min_P10</th>\n",
       "      <th>kills_per_min_P10</th>\n",
       "      <th>deaths_per_min_P10</th>\n",
       "      <th>assists_per_min_P10</th>\n",
       "      <th>last_hits_per_min_P10</th>\n",
       "      <th>player_score_P10</th>\n",
       "    </tr>\n",
       "  </thead>\n",
       "  <tbody>\n",
       "    <tr>\n",
       "      <th>0</th>\n",
       "      <td>0</td>\n",
       "      <td>4244610789</td>\n",
       "      <td>-1</td>\n",
       "      <td>89117038</td>\n",
       "      <td>4294967295</td>\n",
       "      <td>84379306</td>\n",
       "      <td>91751637</td>\n",
       "      <td>89209404</td>\n",
       "      <td>86724687</td>\n",
       "      <td>41909889</td>\n",
       "      <td>...</td>\n",
       "      <td>NaN</td>\n",
       "      <td>NaN</td>\n",
       "      <td>NaN</td>\n",
       "      <td>442.80319</td>\n",
       "      <td>517.659243</td>\n",
       "      <td>0.195666</td>\n",
       "      <td>0.204316</td>\n",
       "      <td>0.349368</td>\n",
       "      <td>4.147247</td>\n",
       "      <td>2.667598</td>\n",
       "    </tr>\n",
       "    <tr>\n",
       "      <th>1</th>\n",
       "      <td>1</td>\n",
       "      <td>4244579889</td>\n",
       "      <td>-1</td>\n",
       "      <td>89117038</td>\n",
       "      <td>84379306</td>\n",
       "      <td>91751637</td>\n",
       "      <td>127723837</td>\n",
       "      <td>89209404</td>\n",
       "      <td>181569885</td>\n",
       "      <td>82933694</td>\n",
       "      <td>...</td>\n",
       "      <td>0.349368</td>\n",
       "      <td>4.147247</td>\n",
       "      <td>2.667598</td>\n",
       "      <td>584.00000</td>\n",
       "      <td>688.000000</td>\n",
       "      <td>0.244233</td>\n",
       "      <td>0.271370</td>\n",
       "      <td>0.271370</td>\n",
       "      <td>8.602442</td>\n",
       "      <td>1.900000</td>\n",
       "    </tr>\n",
       "    <tr>\n",
       "      <th>2</th>\n",
       "      <td>2</td>\n",
       "      <td>4235878221</td>\n",
       "      <td>1</td>\n",
       "      <td>215942127</td>\n",
       "      <td>171758899</td>\n",
       "      <td>340824093</td>\n",
       "      <td>196875694</td>\n",
       "      <td>178406320</td>\n",
       "      <td>89117038</td>\n",
       "      <td>4294967295</td>\n",
       "      <td>...</td>\n",
       "      <td>0.372157</td>\n",
       "      <td>4.760569</td>\n",
       "      <td>1.975731</td>\n",
       "      <td>362.25000</td>\n",
       "      <td>522.500000</td>\n",
       "      <td>0.193060</td>\n",
       "      <td>0.366792</td>\n",
       "      <td>0.396130</td>\n",
       "      <td>1.001641</td>\n",
       "      <td>1.606332</td>\n",
       "    </tr>\n",
       "    <tr>\n",
       "      <th>3</th>\n",
       "      <td>3</td>\n",
       "      <td>4235835817</td>\n",
       "      <td>1</td>\n",
       "      <td>89117038</td>\n",
       "      <td>4294967295</td>\n",
       "      <td>168659298</td>\n",
       "      <td>91371513</td>\n",
       "      <td>84379306</td>\n",
       "      <td>163136974</td>\n",
       "      <td>237376914</td>\n",
       "      <td>...</td>\n",
       "      <td>0.475150</td>\n",
       "      <td>2.077127</td>\n",
       "      <td>2.569428</td>\n",
       "      <td>482.00000</td>\n",
       "      <td>577.000000</td>\n",
       "      <td>0.238270</td>\n",
       "      <td>0.240945</td>\n",
       "      <td>0.353016</td>\n",
       "      <td>4.809093</td>\n",
       "      <td>2.454026</td>\n",
       "    </tr>\n",
       "    <tr>\n",
       "      <th>4</th>\n",
       "      <td>4</td>\n",
       "      <td>4235786355</td>\n",
       "      <td>1</td>\n",
       "      <td>4294967295</td>\n",
       "      <td>4294967295</td>\n",
       "      <td>98639370</td>\n",
       "      <td>86185976</td>\n",
       "      <td>56418606</td>\n",
       "      <td>89117038</td>\n",
       "      <td>114396149</td>\n",
       "      <td>...</td>\n",
       "      <td>0.349368</td>\n",
       "      <td>4.147247</td>\n",
       "      <td>2.667598</td>\n",
       "      <td>428.25000</td>\n",
       "      <td>542.750000</td>\n",
       "      <td>0.081978</td>\n",
       "      <td>0.229857</td>\n",
       "      <td>0.372157</td>\n",
       "      <td>4.760569</td>\n",
       "      <td>1.975731</td>\n",
       "    </tr>\n",
       "  </tbody>\n",
       "</table>\n",
       "<p>5 rows × 83 columns</p>\n",
       "</div>"
      ],
      "text/plain": [
       "   index     matchId  radiant_win    Rplayer1    Rplayer2   Rplayer3  \\\n",
       "0      0  4244610789           -1    89117038  4294967295   84379306   \n",
       "1      1  4244579889           -1    89117038    84379306   91751637   \n",
       "2      2  4235878221            1   215942127   171758899  340824093   \n",
       "3      3  4235835817            1    89117038  4294967295  168659298   \n",
       "4      4  4235786355            1  4294967295  4294967295   98639370   \n",
       "\n",
       "    Rplayer4   Rplayer5   Dplayer1    Dplayer2        ...         \\\n",
       "0   91751637   89209404   86724687    41909889        ...          \n",
       "1  127723837   89209404  181569885    82933694        ...          \n",
       "2  196875694  178406320   89117038  4294967295        ...          \n",
       "3   91371513   84379306  163136974   237376914        ...          \n",
       "4   86185976   56418606   89117038   114396149        ...          \n",
       "\n",
       "   assists_per_min_P9  last_hits_per_min_P9  player_score_P9  \\\n",
       "0                 NaN                   NaN              NaN   \n",
       "1            0.349368              4.147247         2.667598   \n",
       "2            0.372157              4.760569         1.975731   \n",
       "3            0.475150              2.077127         2.569428   \n",
       "4            0.349368              4.147247         2.667598   \n",
       "\n",
       "   gold_per_min_P10  xp_per_min_P10  kills_per_min_P10  deaths_per_min_P10  \\\n",
       "0         442.80319      517.659243           0.195666            0.204316   \n",
       "1         584.00000      688.000000           0.244233            0.271370   \n",
       "2         362.25000      522.500000           0.193060            0.366792   \n",
       "3         482.00000      577.000000           0.238270            0.240945   \n",
       "4         428.25000      542.750000           0.081978            0.229857   \n",
       "\n",
       "   assists_per_min_P10  last_hits_per_min_P10  player_score_P10  \n",
       "0             0.349368               4.147247          2.667598  \n",
       "1             0.271370               8.602442          1.900000  \n",
       "2             0.396130               1.001641          1.606332  \n",
       "3             0.353016               4.809093          2.454026  \n",
       "4             0.372157               4.760569          1.975731  \n",
       "\n",
       "[5 rows x 83 columns]"
      ]
     },
     "execution_count": 60,
     "metadata": {},
     "output_type": "execute_result"
    }
   ],
   "source": [
    "train3_2.head()"
   ]
  },
  {
   "cell_type": "code",
   "execution_count": 61,
   "metadata": {},
   "outputs": [],
   "source": [
    "test2 = test[['matchId', 'radiant_win', 'account_id_1', 'account_id_2', 'account_id_3', 'account_id_4', 'account_id_5', 'account_id_6', 'account_id_7', 'account_id_8', 'account_id_9', 'account_id_10']]\n",
    "test2 = test2.merge(train_featuresJoint, left_on='account_id_1', right_on='account_id', how = 'left', suffixes=('', '_P1'), copy='True')\n",
    "test2 = test2.reset_index()\n",
    "test2 = test2.merge(train_featuresJoint, left_on='account_id_2', right_on='account_id', how = 'left', suffixes=('', '_P2'), copy='True')\n",
    "test2 = test2.reset_index()\n",
    "test2 = test2.drop(columns = 'level_0')\n",
    "test2 = test2.merge(train_featuresJoint, left_on='account_id_3', right_on='account_id', how = 'left', suffixes=('', '_P3'), copy='True')\n",
    "test2 = test2.reset_index()\n",
    "test2 = test2.drop(columns = 'level_0')\n",
    "test2 = test2.merge(train_featuresJoint, left_on='account_id_4', right_on='account_id', how = 'left', suffixes=('', '_P4'), copy='True')\n",
    "test2 = test2.reset_index()\n",
    "test2 = test2.drop(columns = 'level_0')\n",
    "test2 = test2.merge(train_featuresJoint, left_on='account_id_5', right_on='account_id', how = 'left', suffixes=('', '_P5'), copy='True')\n",
    "test2 = test2.reset_index()\n",
    "test2 = test2.drop(columns = 'level_0')\n",
    "test2 = test2.merge(train_featuresJoint, left_on='account_id_6', right_on='account_id', how = 'left', suffixes=('', '_P6'), copy='True')\n",
    "test2 = test2.reset_index()\n",
    "test2 = test2.drop(columns = 'level_0')\n",
    "test2 = test2.merge(train_featuresJoint, left_on='account_id_7', right_on='account_id', how = 'left', suffixes=('', '_P7'), copy='True')\n",
    "test2 = test2.reset_index()\n",
    "test2 = test2.drop(columns = 'level_0')\n",
    "test2 = test2.merge(train_featuresJoint, left_on='account_id_8', right_on='account_id', how = 'left', suffixes=('', '_P8'), copy='True')\n",
    "test2 = test2.reset_index()\n",
    "test2 = test2.drop(columns = 'level_0')\n",
    "test2 = test2.merge(train_featuresJoint, left_on='account_id_9', right_on='account_id', how = 'left', suffixes=('', '_P9'), copy='True')\n",
    "test2 = test2.reset_index()\n",
    "test2 = test2.drop(columns = 'level_0')\n",
    "test2 = test2.merge(train_featuresJoint, left_on='account_id_10', right_on='account_id', how = 'left', suffixes=('', '_P10'), copy='True')"
   ]
  },
  {
   "cell_type": "code",
   "execution_count": 63,
   "metadata": {},
   "outputs": [
    {
     "data": {
      "text/plain": [
       "(8,)"
      ]
     },
     "execution_count": 63,
     "metadata": {},
     "output_type": "execute_result"
    }
   ],
   "source": [
    "train_features_Final = train_featuresJoint.reset_index()\n",
    "unknown_guy = train_features_Final.iloc[29274]\n",
    "unknown_guy\n",
    "unknown_guy.shape"
   ]
  },
  {
   "cell_type": "code",
   "execution_count": 65,
   "metadata": {},
   "outputs": [
    {
     "data": {
      "text/plain": [
       "account_id           4.294967e+09\n",
       "gold_per_min         4.428032e+02\n",
       "xp_per_min           5.176592e+02\n",
       "kills_per_min        1.956661e-01\n",
       "deaths_per_min       2.043165e-01\n",
       "assists_per_min      3.493680e-01\n",
       "last_hits_per_min    4.147247e+00\n",
       "player_score         2.667598e+00\n",
       "Name: 29274, dtype: float64"
      ]
     },
     "execution_count": 65,
     "metadata": {},
     "output_type": "execute_result"
    }
   ],
   "source": [
    "#train_featuresJoint.tail()\n",
    "train_features_Final.iloc[29274]"
   ]
  },
  {
   "cell_type": "code",
   "execution_count": 66,
   "metadata": {},
   "outputs": [],
   "source": [
    "values = {'gold_per_min': unknown_guy[1], 'xp_per_min': unknown_guy[2], 'kills_per_min': unknown_guy[3], 'deaths_per_min': unknown_guy[4], 'assists_per_min': unknown_guy[5], 'last_hits_per_min': unknown_guy[6], 'player_score': unknown_guy[7]\n",
    ",'gold_per_min_P2': unknown_guy[1], 'xp_per_min_P2': unknown_guy[2], 'kills_per_min_P2': unknown_guy[3], 'deaths_per_min_P2': unknown_guy[4], 'assists_per_min_P2': unknown_guy[5], 'last_hits_per_min_P2': unknown_guy[6], 'player_score_P2': unknown_guy[7]\n",
    ",'gold_per_min_P3': unknown_guy[1], 'xp_per_min_P3': unknown_guy[2], 'kills_per_min_P3': unknown_guy[3], 'deaths_per_min_P3': unknown_guy[4], 'assists_per_min_P3': unknown_guy[5], 'last_hits_per_min_P3': unknown_guy[6], 'player_score_P3': unknown_guy[7]\n",
    ",'gold_per_min_P4': unknown_guy[1], 'xp_per_min_P4': unknown_guy[2], 'kills_per_min_P4': unknown_guy[3], 'deaths_per_min_P4': unknown_guy[4], 'assists_per_min_P4': unknown_guy[5], 'last_hits_per_min_P4': unknown_guy[6], 'player_score_P4': unknown_guy[7]\n",
    ",'gold_per_min_P5': unknown_guy[1], 'xp_per_min_P5': unknown_guy[2], 'kills_per_min_P5': unknown_guy[3], 'deaths_per_min_P5': unknown_guy[4], 'assists_per_min_P5': unknown_guy[5], 'last_hits_per_min_P5': unknown_guy[6], 'player_score_P5': unknown_guy[7]\n",
    ",'gold_per_min_P6': unknown_guy[1], 'xp_per_min_P6': unknown_guy[2], 'kills_per_min_P6': unknown_guy[3], 'deaths_per_min_P6': unknown_guy[4], 'assists_per_min_P6': unknown_guy[5], 'last_hits_per_min_P6': unknown_guy[6], 'player_score_P6': unknown_guy[7]\n",
    ",'gold_per_min_P7': unknown_guy[1], 'xp_per_min_P7': unknown_guy[2], 'kills_per_min_P7': unknown_guy[3], 'deaths_per_min_P7': unknown_guy[4], 'assists_per_min_P7': unknown_guy[5], 'last_hits_per_min_P7': unknown_guy[6], 'player_score_P7': unknown_guy[7]\n",
    ",'gold_per_min_P8': unknown_guy[1], 'xp_per_min_P8': unknown_guy[2], 'kills_per_min_P8': unknown_guy[3], 'deaths_per_min_P8': unknown_guy[4], 'assists_per_min_P8': unknown_guy[5], 'last_hits_per_min_P8': unknown_guy[6], 'player_score_P8': unknown_guy[7]\n",
    ",'gold_per_min_P9': unknown_guy[1], 'xp_per_min_P9': unknown_guy[2], 'kills_per_min_P9': unknown_guy[3], 'deaths_per_min_P9': unknown_guy[4], 'assists_per_min_P9': unknown_guy[5], 'last_hits_per_min_P9': unknown_guy[6], 'player_score_P9': unknown_guy[7]\n",
    ",'gold_per_min_P10': unknown_guy[1], 'xp_per_min_P10': unknown_guy[2], 'kills_per_min_P10': unknown_guy[3], 'deaths_per_min_P10': unknown_guy[4], 'assists_per_min_P10': unknown_guy[5], 'last_hits_per_min_P10': unknown_guy[6], 'player_score_P10': unknown_guy[7]}\n",
    "test_fin = test2.fillna(value=values)"
   ]
  },
  {
   "cell_type": "code",
   "execution_count": 67,
   "metadata": {},
   "outputs": [],
   "source": [
    "test_fin['Rplayer1'] = '0'\n",
    "test_fin['Rplayer1'] = test_fin['Rplayer1'].astype(np.int64)\n",
    "test_fin['Rplayer2'] = '0'\n",
    "test_fin['Rplayer2'] = test_fin['Rplayer2'].astype(np.int64)\n",
    "test_fin['Rplayer3'] = '0'\n",
    "test_fin['Rplayer3'] = test_fin['Rplayer3'].astype(np.int64)\n",
    "test_fin['Rplayer4'] = '0'\n",
    "test_fin['Rplayer4'] = test_fin['Rplayer4'].astype(np.int64)\n",
    "test_fin['Rplayer5'] = '0'\n",
    "test_fin['Rplayer5'] = test_fin['Rplayer5'].astype(np.int64)\n",
    "test_fin['Dplayer1'] = '0'\n",
    "test_fin['Dplayer1'] = test_fin['Dplayer1'].astype(np.int64)\n",
    "test_fin['Dplayer2'] = '0'\n",
    "test_fin['Dplayer2'] = test_fin['Dplayer2'].astype(np.int64)\n",
    "test_fin['Dplayer3'] = '0'\n",
    "test_fin['Dplayer3'] = test_fin['Dplayer3'].astype(np.int64)\n",
    "test_fin['Dplayer4'] = '0'\n",
    "test_fin['Dplayer4'] = test_fin['Dplayer4'].astype(np.int64)\n",
    "test_fin['Dplayer5'] = '0'\n",
    "test_fin['Dplayer5'] = test_fin['Dplayer5'].astype(np.int64)"
   ]
  },
  {
   "cell_type": "code",
   "execution_count": 68,
   "metadata": {},
   "outputs": [],
   "source": [
    "columnofscores_test = {'Rscores': [], 'Dscores': []}"
   ]
  },
  {
   "cell_type": "code",
   "execution_count": 69,
   "metadata": {},
   "outputs": [],
   "source": [
    "for i in range(test_fin.shape[0]):\n",
    "    a = [test_fin['player_score'][i], test_fin['player_score_P2'][i], test_fin['player_score_P3'][i], test_fin['player_score_P4'][i], test_fin['player_score_P5'][i]]\n",
    "    np.asarray(a)\n",
    "    b = np.argsort(a)\n",
    "    columnofscores_test['Rscores'].append(b)"
   ]
  },
  {
   "cell_type": "code",
   "execution_count": 70,
   "metadata": {},
   "outputs": [],
   "source": [
    "for i in range(test_fin.shape[0]):\n",
    "    a = [test_fin['player_score_P6'][i], test_fin['player_score_P7'][i], test_fin['player_score_P8'][i], test_fin['player_score_P9'][i], test_fin['player_score_P10'][i]]\n",
    "    np.asarray(a)\n",
    "    b = np.argsort(a)\n",
    "    columnofscores_test['Dscores'].append(b)"
   ]
  },
  {
   "cell_type": "code",
   "execution_count": 71,
   "metadata": {},
   "outputs": [],
   "source": [
    "lenght_test = test_fin.shape[0] "
   ]
  },
  {
   "cell_type": "code",
   "execution_count": 72,
   "metadata": {},
   "outputs": [],
   "source": [
    "for i in range(lenght_test):\n",
    "    a = int(3 + columnofscores_test['Rscores'][i][4])\n",
    "    test_fin.loc[i,'Rplayer1'] = np.int64(test_fin[test_fin.columns[a]][i])"
   ]
  },
  {
   "cell_type": "code",
   "execution_count": 73,
   "metadata": {},
   "outputs": [],
   "source": [
    "for i in range(lenght_test):\n",
    "    a = int(3 + columnofscores_test['Rscores'][i][4])\n",
    "    test_fin.loc[i,'Rplayer1'] = np.int64(test_fin[test_fin.columns[a]][i])"
   ]
  },
  {
   "cell_type": "code",
   "execution_count": 74,
   "metadata": {},
   "outputs": [],
   "source": [
    "for i in range(lenght_test):\n",
    "    a = int(3 + columnofscores_test['Rscores'][i][3])\n",
    "    test_fin.loc[i,'Rplayer2'] = np.int64(test_fin[test_fin.columns[a]][i])"
   ]
  },
  {
   "cell_type": "code",
   "execution_count": 75,
   "metadata": {},
   "outputs": [],
   "source": [
    "for i in range(lenght_test):\n",
    "    a = int(3 + columnofscores_test['Rscores'][i][2])\n",
    "    test_fin.loc[i,'Rplayer3'] = np.int64(test_fin[test_fin.columns[a]][i])"
   ]
  },
  {
   "cell_type": "code",
   "execution_count": 76,
   "metadata": {},
   "outputs": [],
   "source": [
    "for i in range(lenght_test):\n",
    "    a = int(3 + columnofscores_test['Rscores'][i][1])\n",
    "    test_fin.loc[i,'Rplayer4'] = np.int64(test_fin[test_fin.columns[a]][i])"
   ]
  },
  {
   "cell_type": "code",
   "execution_count": 77,
   "metadata": {},
   "outputs": [],
   "source": [
    "for i in range(lenght_test):\n",
    "    a = int(3 + columnofscores_test['Rscores'][i][0])\n",
    "    test_fin.loc[i,'Rplayer5'] = np.int64(test_fin[test_fin.columns[a]][i])"
   ]
  },
  {
   "cell_type": "code",
   "execution_count": 78,
   "metadata": {},
   "outputs": [],
   "source": [
    "for i in range(lenght_test):\n",
    "    a = int(8 + columnofscores_test['Dscores'][i][4])\n",
    "    test_fin.loc[i,'Dplayer1'] = np.int64(test_fin[test_fin.columns[a]][i])"
   ]
  },
  {
   "cell_type": "code",
   "execution_count": 79,
   "metadata": {},
   "outputs": [],
   "source": [
    "for i in range(lenght_test):\n",
    "    a = int(8 + columnofscores_test['Dscores'][i][3])\n",
    "    test_fin.loc[i,'Dplayer2'] = np.int64(test_fin[test_fin.columns[a]][i])"
   ]
  },
  {
   "cell_type": "code",
   "execution_count": 80,
   "metadata": {},
   "outputs": [],
   "source": [
    "for i in range(lenght_test):\n",
    "    a = int(8 + columnofscores_test['Dscores'][i][2])\n",
    "    test_fin.loc[i,'Dplayer3'] = np.int64(test_fin[test_fin.columns[a]][i])"
   ]
  },
  {
   "cell_type": "code",
   "execution_count": 81,
   "metadata": {},
   "outputs": [],
   "source": [
    "for i in range(lenght_test):\n",
    "    a = int(8 + columnofscores_test['Dscores'][i][1])\n",
    "    test_fin.loc[i,'Dplayer4'] = np.int64(test_fin[test_fin.columns[a]][i])"
   ]
  },
  {
   "cell_type": "code",
   "execution_count": 82,
   "metadata": {},
   "outputs": [],
   "source": [
    "for i in range(lenght_test):\n",
    "    a = int(8 + columnofscores_test['Dscores'][i][0])\n",
    "    test_fin.loc[i,'Dplayer5'] = np.int64(test_fin[test_fin.columns[a]][i])"
   ]
  },
  {
   "cell_type": "code",
   "execution_count": 83,
   "metadata": {},
   "outputs": [
    {
     "data": {
      "text/html": [
       "<div>\n",
       "<style scoped>\n",
       "    .dataframe tbody tr th:only-of-type {\n",
       "        vertical-align: middle;\n",
       "    }\n",
       "\n",
       "    .dataframe tbody tr th {\n",
       "        vertical-align: top;\n",
       "    }\n",
       "\n",
       "    .dataframe thead th {\n",
       "        text-align: right;\n",
       "    }\n",
       "</style>\n",
       "<table border=\"1\" class=\"dataframe\">\n",
       "  <thead>\n",
       "    <tr style=\"text-align: right;\">\n",
       "      <th></th>\n",
       "      <th>matchId</th>\n",
       "      <th>radiant_win</th>\n",
       "      <th>Rplayer1</th>\n",
       "      <th>Rplayer2</th>\n",
       "      <th>Rplayer3</th>\n",
       "      <th>Rplayer4</th>\n",
       "      <th>Rplayer5</th>\n",
       "      <th>Dplayer1</th>\n",
       "      <th>Dplayer2</th>\n",
       "      <th>Dplayer3</th>\n",
       "      <th>Dplayer4</th>\n",
       "      <th>Dplayer5</th>\n",
       "    </tr>\n",
       "  </thead>\n",
       "  <tbody>\n",
       "    <tr>\n",
       "      <th>0</th>\n",
       "      <td>4176218481</td>\n",
       "      <td>1</td>\n",
       "      <td>284301350</td>\n",
       "      <td>4294967295</td>\n",
       "      <td>4294967295</td>\n",
       "      <td>4294967295</td>\n",
       "      <td>4294967295</td>\n",
       "      <td>142237436</td>\n",
       "      <td>230691847</td>\n",
       "      <td>164324465</td>\n",
       "      <td>4294967295</td>\n",
       "      <td>4294967295</td>\n",
       "    </tr>\n",
       "    <tr>\n",
       "      <th>1</th>\n",
       "      <td>4175786086</td>\n",
       "      <td>1</td>\n",
       "      <td>164324465</td>\n",
       "      <td>130686703</td>\n",
       "      <td>4294967295</td>\n",
       "      <td>4294967295</td>\n",
       "      <td>4294967295</td>\n",
       "      <td>133837079</td>\n",
       "      <td>4294967295</td>\n",
       "      <td>4294967295</td>\n",
       "      <td>118753646</td>\n",
       "      <td>457447646</td>\n",
       "    </tr>\n",
       "    <tr>\n",
       "      <th>2</th>\n",
       "      <td>4175721477</td>\n",
       "      <td>-1</td>\n",
       "      <td>164324465</td>\n",
       "      <td>4294967295</td>\n",
       "      <td>4294967295</td>\n",
       "      <td>4294967295</td>\n",
       "      <td>4294967295</td>\n",
       "      <td>4294967295</td>\n",
       "      <td>4294967295</td>\n",
       "      <td>4294967295</td>\n",
       "      <td>4294967295</td>\n",
       "      <td>4294967295</td>\n",
       "    </tr>\n",
       "    <tr>\n",
       "      <th>3</th>\n",
       "      <td>4175668662</td>\n",
       "      <td>1</td>\n",
       "      <td>164324465</td>\n",
       "      <td>4294967295</td>\n",
       "      <td>4294967295</td>\n",
       "      <td>4294967295</td>\n",
       "      <td>4294967295</td>\n",
       "      <td>4294967295</td>\n",
       "      <td>4294967295</td>\n",
       "      <td>189458876</td>\n",
       "      <td>342507232</td>\n",
       "      <td>4294967295</td>\n",
       "    </tr>\n",
       "    <tr>\n",
       "      <th>4</th>\n",
       "      <td>4174486906</td>\n",
       "      <td>-1</td>\n",
       "      <td>213952767</td>\n",
       "      <td>158393163</td>\n",
       "      <td>4294967295</td>\n",
       "      <td>256595304</td>\n",
       "      <td>857908232</td>\n",
       "      <td>106289601</td>\n",
       "      <td>164324465</td>\n",
       "      <td>125796910</td>\n",
       "      <td>382385120</td>\n",
       "      <td>170644194</td>\n",
       "    </tr>\n",
       "  </tbody>\n",
       "</table>\n",
       "</div>"
      ],
      "text/plain": [
       "      matchId  radiant_win   Rplayer1    Rplayer2    Rplayer3    Rplayer4  \\\n",
       "0  4176218481            1  284301350  4294967295  4294967295  4294967295   \n",
       "1  4175786086            1  164324465   130686703  4294967295  4294967295   \n",
       "2  4175721477           -1  164324465  4294967295  4294967295  4294967295   \n",
       "3  4175668662            1  164324465  4294967295  4294967295  4294967295   \n",
       "4  4174486906           -1  213952767   158393163  4294967295   256595304   \n",
       "\n",
       "     Rplayer5    Dplayer1    Dplayer2    Dplayer3    Dplayer4    Dplayer5  \n",
       "0  4294967295   142237436   230691847   164324465  4294967295  4294967295  \n",
       "1  4294967295   133837079  4294967295  4294967295   118753646   457447646  \n",
       "2  4294967295  4294967295  4294967295  4294967295  4294967295  4294967295  \n",
       "3  4294967295  4294967295  4294967295   189458876   342507232  4294967295  \n",
       "4   857908232   106289601   164324465   125796910   382385120   170644194  "
      ]
     },
     "execution_count": 83,
     "metadata": {},
     "output_type": "execute_result"
    }
   ],
   "source": [
    "test_fin2 = test_fin[['matchId', 'radiant_win', 'Rplayer1', 'Rplayer2', 'Rplayer3', 'Rplayer4', 'Rplayer5', 'Dplayer1', 'Dplayer2', 'Dplayer3', 'Dplayer4', 'Dplayer5']]\n",
    "test_fin2.head()"
   ]
  },
  {
   "cell_type": "code",
   "execution_count": 84,
   "metadata": {},
   "outputs": [],
   "source": [
    "test_fin2 = test_fin[['matchId', 'radiant_win', 'Rplayer1', 'Rplayer2', 'Rplayer3', 'Rplayer4', 'Rplayer5', 'Dplayer1', 'Dplayer2', 'Dplayer3', 'Dplayer4', 'Dplayer5']]\n",
    "test_fin2 = test_fin2.merge(train_featuresJoint, left_on='Rplayer1', right_on='account_id', how = 'left', suffixes=('', '_P1'), copy='True')\n",
    "test_fin2 = test_fin2.reset_index()\n",
    "test_fin2 = test_fin2.merge(train_featuresJoint, left_on='Rplayer2', right_on='account_id', how = 'left', suffixes=('', '_P2'), copy='True')\n",
    "test_fin2 = test_fin2.reset_index()\n",
    "test_fin2 = test_fin2.drop(columns = 'level_0')\n",
    "test_fin2 = test_fin2.merge(train_featuresJoint, left_on='Rplayer3', right_on='account_id', how = 'left', suffixes=('', '_P3'), copy='True')\n",
    "test_fin2 = test_fin2.reset_index()\n",
    "test_fin2 = test_fin2.drop(columns = 'level_0')\n",
    "test_fin2 = test_fin2.merge(train_featuresJoint, left_on='Rplayer4', right_on='account_id', how = 'left', suffixes=('', '_P4'), copy='True')\n",
    "test_fin2 = test_fin2.reset_index()\n",
    "test_fin2 = test_fin2.drop(columns = 'level_0')\n",
    "test_fin2 = test_fin2.merge(train_featuresJoint, left_on='Rplayer5', right_on='account_id', how = 'left', suffixes=('', '_P5'), copy='True')\n",
    "test_fin2 = test_fin2.reset_index()\n",
    "test_fin2 = test_fin2.drop(columns = 'level_0')\n",
    "test_fin2 = test_fin2.merge(train_featuresJoint, left_on='Dplayer1', right_on='account_id', how = 'left', suffixes=('', '_P6'), copy='True')\n",
    "test_fin2 = test_fin2.reset_index()\n",
    "test_fin2 = test_fin2.drop(columns = 'level_0')\n",
    "test_fin2 = test_fin2.merge(train_featuresJoint, left_on='Dplayer2', right_on='account_id', how = 'left', suffixes=('', '_P7'), copy='True')\n",
    "test_fin2 = test_fin2.reset_index()\n",
    "test_fin2 = test_fin2.drop(columns = 'level_0')\n",
    "test_fin2 = test_fin2.merge(train_featuresJoint, left_on='Dplayer3', right_on='account_id', how = 'left', suffixes=('', '_P8'), copy='True')\n",
    "test_fin2 = test_fin2.reset_index()\n",
    "test_fin2 = test_fin2.drop(columns = 'level_0')\n",
    "test_fin2 = test_fin2.merge(train_featuresJoint, left_on='Dplayer4', right_on='account_id', how = 'left', suffixes=('', '_P9'), copy='True')\n",
    "test_fin2 = test_fin2.reset_index()\n",
    "test_fin2 = test_fin2.drop(columns = 'level_0')\n",
    "test_fin2 = test_fin2.merge(train_featuresJoint, left_on='Dplayer5', right_on='account_id', how = 'left', suffixes=('', '_P10'), copy='True')"
   ]
  },
  {
   "cell_type": "code",
   "execution_count": 85,
   "metadata": {
    "scrolled": true
   },
   "outputs": [
    {
     "data": {
      "text/plain": [
       "index                      0\n",
       "matchId                    0\n",
       "radiant_win                0\n",
       "Rplayer1                   0\n",
       "Rplayer2                   0\n",
       "Rplayer3                   0\n",
       "Rplayer4                   0\n",
       "Rplayer5                   0\n",
       "Dplayer1                   0\n",
       "Dplayer2                   0\n",
       "Dplayer3                   0\n",
       "Dplayer4                   0\n",
       "Dplayer5                   0\n",
       "gold_per_min             483\n",
       "xp_per_min               483\n",
       "kills_per_min            483\n",
       "deaths_per_min           483\n",
       "assists_per_min          483\n",
       "last_hits_per_min        483\n",
       "player_score             483\n",
       "gold_per_min_P2          725\n",
       "xp_per_min_P2            725\n",
       "kills_per_min_P2         725\n",
       "deaths_per_min_P2        725\n",
       "assists_per_min_P2       725\n",
       "last_hits_per_min_P2     725\n",
       "player_score_P2          725\n",
       "gold_per_min_P3          802\n",
       "xp_per_min_P3            802\n",
       "kills_per_min_P3         802\n",
       "                        ... \n",
       "last_hits_per_min_P6     467\n",
       "player_score_P6          467\n",
       "gold_per_min_P7          679\n",
       "xp_per_min_P7            679\n",
       "kills_per_min_P7         679\n",
       "deaths_per_min_P7        679\n",
       "assists_per_min_P7       679\n",
       "last_hits_per_min_P7     679\n",
       "player_score_P7          679\n",
       "gold_per_min_P8          817\n",
       "xp_per_min_P8            817\n",
       "kills_per_min_P8         817\n",
       "deaths_per_min_P8        817\n",
       "assists_per_min_P8       817\n",
       "last_hits_per_min_P8     817\n",
       "player_score_P8          817\n",
       "gold_per_min_P9          719\n",
       "xp_per_min_P9            719\n",
       "kills_per_min_P9         719\n",
       "deaths_per_min_P9        719\n",
       "assists_per_min_P9       719\n",
       "last_hits_per_min_P9     719\n",
       "player_score_P9          719\n",
       "gold_per_min_P10         513\n",
       "xp_per_min_P10           513\n",
       "kills_per_min_P10        513\n",
       "deaths_per_min_P10       513\n",
       "assists_per_min_P10      513\n",
       "last_hits_per_min_P10    513\n",
       "player_score_P10         513\n",
       "Length: 83, dtype: int64"
      ]
     },
     "execution_count": 85,
     "metadata": {},
     "output_type": "execute_result"
    }
   ],
   "source": [
    "test_fin2.isna().sum()"
   ]
  },
  {
   "cell_type": "code",
   "execution_count": 86,
   "metadata": {},
   "outputs": [],
   "source": [
    "test_fin3 = test_fin2.fillna(value=values)"
   ]
  },
  {
   "cell_type": "code",
   "execution_count": 87,
   "metadata": {
    "scrolled": true
   },
   "outputs": [
    {
     "data": {
      "text/plain": [
       "index                    0\n",
       "matchId                  0\n",
       "radiant_win              0\n",
       "Rplayer1                 0\n",
       "Rplayer2                 0\n",
       "Rplayer3                 0\n",
       "Rplayer4                 0\n",
       "Rplayer5                 0\n",
       "Dplayer1                 0\n",
       "Dplayer2                 0\n",
       "Dplayer3                 0\n",
       "Dplayer4                 0\n",
       "Dplayer5                 0\n",
       "gold_per_min             0\n",
       "xp_per_min               0\n",
       "kills_per_min            0\n",
       "deaths_per_min           0\n",
       "assists_per_min          0\n",
       "last_hits_per_min        0\n",
       "player_score             0\n",
       "gold_per_min_P2          0\n",
       "xp_per_min_P2            0\n",
       "kills_per_min_P2         0\n",
       "deaths_per_min_P2        0\n",
       "assists_per_min_P2       0\n",
       "last_hits_per_min_P2     0\n",
       "player_score_P2          0\n",
       "gold_per_min_P3          0\n",
       "xp_per_min_P3            0\n",
       "kills_per_min_P3         0\n",
       "                        ..\n",
       "last_hits_per_min_P6     0\n",
       "player_score_P6          0\n",
       "gold_per_min_P7          0\n",
       "xp_per_min_P7            0\n",
       "kills_per_min_P7         0\n",
       "deaths_per_min_P7        0\n",
       "assists_per_min_P7       0\n",
       "last_hits_per_min_P7     0\n",
       "player_score_P7          0\n",
       "gold_per_min_P8          0\n",
       "xp_per_min_P8            0\n",
       "kills_per_min_P8         0\n",
       "deaths_per_min_P8        0\n",
       "assists_per_min_P8       0\n",
       "last_hits_per_min_P8     0\n",
       "player_score_P8          0\n",
       "gold_per_min_P9          0\n",
       "xp_per_min_P9            0\n",
       "kills_per_min_P9         0\n",
       "deaths_per_min_P9        0\n",
       "assists_per_min_P9       0\n",
       "last_hits_per_min_P9     0\n",
       "player_score_P9          0\n",
       "gold_per_min_P10         0\n",
       "xp_per_min_P10           0\n",
       "kills_per_min_P10        0\n",
       "deaths_per_min_P10       0\n",
       "assists_per_min_P10      0\n",
       "last_hits_per_min_P10    0\n",
       "player_score_P10         0\n",
       "Length: 83, dtype: int64"
      ]
     },
     "execution_count": 87,
     "metadata": {},
     "output_type": "execute_result"
    }
   ],
   "source": [
    "test_fin3.isna().sum()"
   ]
  },
  {
   "cell_type": "code",
   "execution_count": 88,
   "metadata": {},
   "outputs": [
    {
     "name": "stdout",
     "output_type": "stream",
     "text": [
      "(22099, 83)\n",
      "(22094, 83)\n",
      "(22094,)\n",
      "(22094, 60)\n"
     ]
    }
   ],
   "source": [
    "# Split the train set into x and y\n",
    "train_fin = train3_2.dropna()\n",
    "print(train3_2.shape)\n",
    "print(train_fin.shape)\n",
    "y_train = train_fin['radiant_win']\n",
    "x_train = train_fin.drop(columns = ['index','matchId','radiant_win','Rplayer1', 'Rplayer2', 'Rplayer3','Rplayer4', 'Rplayer5', 'Dplayer1', \n",
    "                                    'Dplayer2', 'Dplayer3', 'Dplayer4','Dplayer5', 'player_score', 'player_score_P2', \n",
    "                                    'player_score_P3', 'player_score_P4', 'player_score_P5', 'player_score_P6', 'player_score_P7'\n",
    "                                   , 'player_score_P8', 'player_score_P9', 'player_score_P10']) \n",
    "print(y_train.shape)\n",
    "print(x_train.shape)"
   ]
  },
  {
   "cell_type": "code",
   "execution_count": 89,
   "metadata": {},
   "outputs": [
    {
     "data": {
      "text/plain": [
       "(2456, 60)"
      ]
     },
     "execution_count": 89,
     "metadata": {},
     "output_type": "execute_result"
    }
   ],
   "source": [
    "# Split the test set into x and y\n",
    "y_test = test_fin3['radiant_win']\n",
    "x_test = test_fin3.drop(columns = ['index','matchId', 'radiant_win', 'Rplayer1', 'Rplayer2', 'Rplayer3', 'Rplayer4', 'Rplayer5', \n",
    "                                   'Dplayer1', 'Dplayer2', 'Dplayer3', 'Dplayer4', 'Dplayer5','player_score', 'player_score_P2', \n",
    "                                    'player_score_P3', 'player_score_P4', 'player_score_P5', 'player_score_P6', 'player_score_P7'\n",
    "                                   , 'player_score_P8', 'player_score_P9', 'player_score_P10'])\n",
    "x_test.shape"
   ]
  },
  {
   "cell_type": "markdown",
   "metadata": {},
   "source": [
    "# Model Training and Application"
   ]
  },
  {
   "cell_type": "markdown",
   "metadata": {},
   "source": [
    "# Logistic Regression"
   ]
  },
  {
   "cell_type": "code",
   "execution_count": 90,
   "metadata": {},
   "outputs": [
    {
     "data": {
      "text/plain": [
       "LogisticRegression(C=1.0, class_weight=None, dual=False, fit_intercept=True,\n",
       "          intercept_scaling=1, max_iter=100, multi_class='ovr', n_jobs=1,\n",
       "          penalty='l2', random_state=None, solver='liblinear', tol=0.0001,\n",
       "          verbose=0, warm_start=False)"
      ]
     },
     "execution_count": 90,
     "metadata": {},
     "output_type": "execute_result"
    }
   ],
   "source": [
    "# Apply Logistic regression\n",
    "clf = LogisticRegression()\n",
    "clf.fit(x_train,y_train)"
   ]
  },
  {
   "cell_type": "code",
   "execution_count": 91,
   "metadata": {},
   "outputs": [
    {
     "data": {
      "text/plain": [
       "0.7199239612564498"
      ]
     },
     "execution_count": 91,
     "metadata": {},
     "output_type": "execute_result"
    }
   ],
   "source": [
    "# Calculate accuracy for the training set\n",
    "clf.score(x_train,y_train)"
   ]
  },
  {
   "cell_type": "code",
   "execution_count": 92,
   "metadata": {},
   "outputs": [],
   "source": [
    "# Make predictions\n",
    "predictions = clf.predict(x_test)"
   ]
  },
  {
   "cell_type": "code",
   "execution_count": 93,
   "metadata": {},
   "outputs": [
    {
     "name": "stdout",
     "output_type": "stream",
     "text": [
      "The score is: 0.5301302931596091\n",
      "The AUC is: 0.517422083172262\n",
      "Structure for the confusion matrix is ([TN,FN],[FP,TP])\n",
      "[[409 718]\n",
      " [436 893]]\n"
     ]
    }
   ],
   "source": [
    "# Calculate confusion matrix, accuracy and AUC\n",
    "cm = metrics.confusion_matrix(y_test, predictions)\n",
    "score = clf.score(x_test, y_test)\n",
    "AUC = roc_auc_score(y_test, predictions)\n",
    "print('The score is:',score)\n",
    "print('The AUC is:', AUC)\n",
    "print('Structure for the confusion matrix is ([TN,FN],[FP,TP])')\n",
    "print(cm)"
   ]
  },
  {
   "cell_type": "code",
   "execution_count": 94,
   "metadata": {},
   "outputs": [
    {
     "data": {
      "image/png": "[encoded data removed]",
      "text/plain": [
       "<Figure size 432x288 with 1 Axes>"
      ]
     },
     "metadata": {},
     "output_type": "display_data"
    }
   ],
   "source": [
    "#We calculate the ROC_curve between the initial Y_Test data and the Predicted Y_Test_data (Pred_Y)\n",
    "fpr, tpr, threshold = metrics.roc_curve(y_test, predictions)\n",
    "roc_auc = metrics.auc(fpr, tpr)\n",
    "plt.figure()\n",
    "lw = 2\n",
    "plt.plot(fpr, tpr, color='darkorange',\n",
    "         lw=lw, label='ROC curve (area = %0.2f)' % roc_auc)\n",
    "plt.plot([0, 1], [0, 1], color='navy', lw=lw, linestyle='--')\n",
    "plt.xlim([0.0, 1.0])\n",
    "plt.ylim([0.0, 1.05])\n",
    "plt.xlabel('False Positive Rate')\n",
    "plt.ylabel('True Positive Rate')\n",
    "plt.title('ROC curve logistic regression')\n",
    "plt.legend(loc=\"lower right\")\n",
    "plt.show()"
   ]
  },
  {
   "cell_type": "markdown",
   "metadata": {},
   "source": [
    "# Support Vector Machines - Gaussian Kernel"
   ]
  },
  {
   "cell_type": "code",
   "execution_count": 95,
   "metadata": {},
   "outputs": [
    {
     "data": {
      "text/plain": [
       "SVC(C=1.0, cache_size=1000, class_weight=None, coef0=0.0,\n",
       "  decision_function_shape='ovr', degree=3, gamma='auto', kernel='rbf',\n",
       "  max_iter=-1, probability=False, random_state=None, shrinking=True,\n",
       "  tol=0.001, verbose=False)"
      ]
     },
     "execution_count": 95,
     "metadata": {},
     "output_type": "execute_result"
    }
   ],
   "source": [
    "# Apply SVM with RBF Kernel\n",
    "clf_svc_1 = SVC(cache_size = 1000)\n",
    "clf_svc_1.fit(x_train,y_train)"
   ]
  },
  {
   "cell_type": "code",
   "execution_count": 96,
   "metadata": {},
   "outputs": [
    {
     "data": {
      "text/plain": [
       "0.9992305603331221"
      ]
     },
     "execution_count": 96,
     "metadata": {},
     "output_type": "execute_result"
    }
   ],
   "source": [
    "# Calculate accuracy for the training set\n",
    "clf_svc_1.score(x_train,y_train)"
   ]
  },
  {
   "cell_type": "code",
   "execution_count": 97,
   "metadata": {},
   "outputs": [],
   "source": [
    "# Make predictions\n",
    "predictions_SVM = clf_svc_1.predict(x_test)"
   ]
  },
  {
   "cell_type": "code",
   "execution_count": 98,
   "metadata": {},
   "outputs": [
    {
     "name": "stdout",
     "output_type": "stream",
     "text": [
      "The score is: 0.5850977198697068\n",
      "The AUC is: 0.5479148181011535\n",
      "Structure for the confusion matrix is ([TN,FN],[FP,TP])\n",
      "[[ 108 1019]\n",
      " [   0 1329]]\n"
     ]
    }
   ],
   "source": [
    "# Calculate confusion matrix, accuracy and AUC\n",
    "cm1 = metrics.confusion_matrix(y_test, predictions_SVM)\n",
    "score1 = clf_svc_1.score(x_test, y_test)\n",
    "AUC1 = roc_auc_score(y_test, predictions_SVM)\n",
    "print('The score is:',score1)\n",
    "print('The AUC is:', AUC1)\n",
    "print('Structure for the confusion matrix is ([TN,FN],[FP,TP])')\n",
    "print(cm1)"
   ]
  },
  {
   "cell_type": "code",
   "execution_count": 99,
   "metadata": {},
   "outputs": [
    {
     "data": {
      "image/png": "[encoded data removed]",
      "text/plain": [
       "<Figure size 432x288 with 1 Axes>"
      ]
     },
     "metadata": {},
     "output_type": "display_data"
    }
   ],
   "source": [
    "#We calculate the ROC_curve between the initial Y_Test data and the Predicted Y_Test_data (Pred_Y)\n",
    "fpr, tpr, threshold = metrics.roc_curve(y_test, predictions_SVM)\n",
    "roc_auc = metrics.auc(fpr, tpr)\n",
    "plt.figure()\n",
    "lw = 2\n",
    "plt.plot(fpr, tpr, color='darkorange',\n",
    "         lw=lw, label='ROC curve (area = %0.2f)' % roc_auc)\n",
    "plt.plot([0, 1], [0, 1], color='navy', lw=lw, linestyle='--')\n",
    "plt.xlim([0.0, 1.0])\n",
    "plt.ylim([0.0, 1.05])\n",
    "plt.xlabel('False Positive Rate')\n",
    "plt.ylabel('True Positive Rate')\n",
    "plt.title('ROC curve SVM Gaussian kernel')\n",
    "plt.legend(loc=\"lower right\")\n",
    "plt.show()"
   ]
  },
  {
   "cell_type": "markdown",
   "metadata": {},
   "source": [
    "# SVM Gaussian Kernel with Cross Validation"
   ]
  },
  {
   "cell_type": "code",
   "execution_count": 89,
   "metadata": {},
   "outputs": [],
   "source": [
    "#Cross validation\n",
    "cv_svc = StratifiedKFold(n_splits =10)\n",
    "scores_svc = cross_val_score(clf_svc_1, x_train, y_train, cv=cv_svc)"
   ]
  },
  {
   "cell_type": "code",
   "execution_count": 93,
   "metadata": {},
   "outputs": [
    {
     "name": "stdout",
     "output_type": "stream",
     "text": [
      "Results of the Accuracy for Gaussian kernel SVM: 0.5988526215538821\n",
      "Results Scores Cross Validation [0.58687783 0.62624434 0.59366516 0.58552036 0.57647059 0.601177\n",
      " 0.56948846 0.62426437 0.6016297  0.62318841]\n"
     ]
    }
   ],
   "source": [
    "accu_svc = scores_svc.mean() #Get the mean accuracy\n",
    "print('Results of the Accuracy for Gaussian kernel SVM:', accu_svc)\n",
    "print('Results Scores Cross Validation', scores_svc)"
   ]
  },
  {
   "cell_type": "markdown",
   "metadata": {},
   "source": [
    "# Support Vector Machines - Linear Kernel"
   ]
  },
  {
   "cell_type": "code",
   "execution_count": 94,
   "metadata": {},
   "outputs": [],
   "source": [
    "#Now, based on that we have 60 features to fit our model, we will apply an SVM with a linear kernel.\n",
    "#Apply SVM Linear Kernel\n",
    "clf_svc_lin = SVC(kernel = 'linear', cache_size = 1000)"
   ]
  },
  {
   "cell_type": "code",
   "execution_count": 95,
   "metadata": {},
   "outputs": [
    {
     "data": {
      "text/plain": [
       "SVC(C=1.0, cache_size=1000, class_weight=None, coef0=0.0,\n",
       "  decision_function_shape='ovr', degree=3, gamma='auto', kernel='linear',\n",
       "  max_iter=-1, probability=False, random_state=None, shrinking=True,\n",
       "  tol=0.001, verbose=False)"
      ]
     },
     "execution_count": 95,
     "metadata": {},
     "output_type": "execute_result"
    }
   ],
   "source": [
    "clf_svc_lin.fit(x_train,y_train)"
   ]
  },
  {
   "cell_type": "code",
   "execution_count": 98,
   "metadata": {},
   "outputs": [
    {
     "data": {
      "text/plain": [
       "0.7169819860595636"
      ]
     },
     "execution_count": 98,
     "metadata": {},
     "output_type": "execute_result"
    }
   ],
   "source": [
    "# Calculate accuracy for the training set\n",
    "clf_svc_lin.score(x_train,y_train)"
   ]
  },
  {
   "cell_type": "code",
   "execution_count": 102,
   "metadata": {},
   "outputs": [],
   "source": [
    "# Make predictions\n",
    "predictions_SVM_lin = clf_svc_lin.predict(x_test)"
   ]
  },
  {
   "cell_type": "code",
   "execution_count": 109,
   "metadata": {},
   "outputs": [
    {
     "name": "stdout",
     "output_type": "stream",
     "text": [
      "The score is: 0.5301302931596091\n",
      "The AUC is: 0.5160734231861357\n",
      "Structure for the confusion matrix is ([TN,FN],[FP,TP])\n",
      "[[389 738]\n",
      " [416 913]]\n"
     ]
    }
   ],
   "source": [
    "# Calculate confusion matrix, accuracy and AUC in Test Set\n",
    "# The structure for the confusion matrix is ([TN,FN],[FP,TP])\n",
    "cm_lin = metrics.confusion_matrix(y_test, predictions_SVM_lin)\n",
    "score_lin = clf_svc_lin.score(x_test, y_test)\n",
    "AUC_lin = roc_auc_score(y_test, predictions_SVM_lin)\n",
    "print('The score is:',score_lin)\n",
    "print('The AUC is:', AUC_lin)\n",
    "print('Structure for the confusion matrix is ([TN,FN],[FP,TP])')\n",
    "print(cm_lin)"
   ]
  },
  {
   "cell_type": "code",
   "execution_count": 105,
   "metadata": {},
   "outputs": [
    {
     "data": {
      "image/png": "[encoded data removed]",
      "text/plain": [
       "<Figure size 432x288 with 1 Axes>"
      ]
     },
     "metadata": {
      "needs_background": "light"
     },
     "output_type": "display_data"
    }
   ],
   "source": [
    "#We calculate the ROC_curve between the initial Y_Test data and the Predicted Y_Test_data (Pred_Y)\n",
    "fpr, tpr, threshold = metrics.roc_curve(y_test, predictions_SVM_lin)\n",
    "roc_auc = metrics.auc(fpr, tpr)\n",
    "plt.figure()\n",
    "lw = 2\n",
    "plt.plot(fpr, tpr, color='darkorange',\n",
    "         lw=lw, label='ROC curve (area = %0.2f)' % roc_auc)\n",
    "plt.plot([0, 1], [0, 1], color='navy', lw=lw, linestyle='--')\n",
    "plt.xlim([0.0, 1.0])\n",
    "plt.ylim([0.0, 1.05])\n",
    "plt.xlabel('False Positive Rate')\n",
    "plt.ylabel('True Positive Rate')\n",
    "plt.title('ROC curve SVM linear kernel')\n",
    "plt.legend(loc=\"lower right\")\n",
    "plt.show()"
   ]
  },
  {
   "cell_type": "markdown",
   "metadata": {},
   "source": [
    "As we can see, the best results we got was with SVM Gaussian Kernel with Cross Validation. Also, we got a better AUC_score with the Gaussian Kernel."
   ]
  }
 ],
 "metadata": {
  "kernelspec": {
   "display_name": "Python 3",
   "language": "python",
   "name": "python3"
  },
  "language_info": {
   "codemirror_mode": {
    "name": "ipython",
    "version": 3
   },
   "file_extension": ".py",
   "mimetype": "text/x-python",
   "name": "python",
   "nbconvert_exporter": "python",
   "pygments_lexer": "ipython3",
   "version": "3.7.1"
  }
 },
 "nbformat": 4,
 "nbformat_minor": 2
}
